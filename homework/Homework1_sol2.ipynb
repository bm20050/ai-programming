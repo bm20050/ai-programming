{
  "nbformat": 4,
  "nbformat_minor": 0,
  "metadata": {
    "colab": {
      "provenance": []
    },
    "kernelspec": {
      "name": "python3",
      "display_name": "Python 3"
    },
    "language_info": {
      "name": "python"
    }
  },
  "cells": [
    {
      "cell_type": "markdown",
      "source": [
        "# Homework 1"
      ],
      "metadata": {
        "id": "Lcr-JDY0EXVV"
      }
    },
    {
      "cell_type": "markdown",
      "source": [
        "Note: For the following exercises, write a program to solve the problem and\n",
        "display the answer. A possible output is shown in a shaded box and responses\n",
        "to input statements appear underlined."
      ],
      "metadata": {
        "id": "1EhEQC6IClgZ"
      }
    },
    {
      "cell_type": "markdown",
      "source": [
        "## 1. Word Replacement \n",
        "\n",
        "Write a program that requests a sentence, a word in\n",
        "the sentence, and another word and then displays the sentence with the first\n",
        "word replaced by the second. \n",
        "\n",
        "Do not use the format method.\n",
        "\n",
        "Output:\n",
        "```\n",
        "Enter a sentence: What you don't know won't hurt you.\n",
        "Enter word to replace: know\n",
        "Enter replacement word: owe\n",
        "What you don't owe won't hurt you.\n",
        "```"
      ],
      "metadata": {
        "id": "A4Ks_D_PCrrI"
      }
    },
    {
      "cell_type": "code",
      "execution_count": null,
      "metadata": {
        "id": "3w453RjhCh5y",
        "colab": {
          "base_uri": "https://localhost:8080/"
        },
        "outputId": "bf2d7a23-b109-4615-dd27-a7fe69ad0008"
      },
      "outputs": [
        {
          "output_type": "stream",
          "name": "stdout",
          "text": [
            "Enter a sentence:What you don't know won't hurt you.\n",
            "Enter word to replace:know\n",
            "Enter replacement word:owe\n",
            "What you don't owe won't hurt you.\n"
          ]
        }
      ],
      "source": [
        "text = input('Enter a sentence:')\n",
        "target_word = input('Enter word to replace:')\n",
        "new_word = input('Enter replacement word:')\n",
        "print(text.replace(target_word, new_word))"
      ]
    },
    {
      "cell_type": "markdown",
      "source": [
        "## 2. Present Value \n",
        "\n",
        "The present value (현재 가치) of f dollars at interest rate r% compounded\n",
        "annually for n years is the amount of money that must be invested now in\n",
        "order to grow to f dollars (called the future value, 미래 가치) in n years where the\n",
        "interest rate is r% per year. The formula for present value is\n",
        "\n",
        "$$ present\\ value = \\frac{f}{{(1+\\frac{r}{100})}^n} $$\n",
        "\n",
        "Calculate the present value of an investment after the user enters the future\n",
        "value, interest rate, and number of years. The following figure shows that at\n",
        "4% interest per year, \\\\$7,903.15 must be invested now in order to have \\\\$10,000 after 6 years. \n",
        "\n",
        "The program should use the format method to display\n",
        "the outputs.\n",
        "\n",
        "```\n",
        "Enter future value: 10000\n",
        "Enter interest rate (as %): 4\n",
        "Enter number of years: 6\n",
        "Present value: $7,903.15\n",
        "```\n",
        " "
      ],
      "metadata": {
        "id": "VZ_vsZP6C-Xk"
      }
    },
    {
      "cell_type": "code",
      "source": [
        "f = int(input('Enter future value:'))\n",
        "r = int(input('Enter interest rate (as %):'))\n",
        "n = int(input('Enter number of years:'))\n",
        "pv = 'Present value: ${:,.2f}'.format(f/(1+(r/100))**n)\n",
        "print(pv)"
      ],
      "metadata": {
        "id": "iorxrNcFDCUt",
        "colab": {
          "base_uri": "https://localhost:8080/"
        },
        "outputId": "4ff685d9-e94a-4744-faaa-ef54db69376b"
      },
      "execution_count": null,
      "outputs": [
        {
          "output_type": "stream",
          "name": "stdout",
          "text": [
            "Enter future value:1000\n",
            "Enter interest rate (as %):4\n",
            "Enter number of years:6\n",
            "Present value: $790.31\n"
          ]
        }
      ]
    },
    {
      "cell_type": "markdown",
      "source": [
        "## 2. Present Value \n",
        "\n",
        "The present value (현재 가치) of f dollars at interest rate r% compounded\n",
        "annually for n years is the amount of money that must be invested now in\n",
        "order to grow to f dollars (called the future value, 미래 가치) in n years where the\n",
        "interest rate is r% per year. The formula for present value is\n",
        "\n",
        "$$ present\\ value = \\frac{f}{{(1+\\frac{r}{100})}^n} $$\n",
        "\n",
        "Calculate the present value of an investment after the user enters the future\n",
        "value, interest rate, and number of years. The following figure shows that at\n",
        "4% interest per year, \\\\$7,903.15 must be invested now in order to have \\\\$10,000 after 6 years. \n",
        "\n",
        "The program should use the format method to display\n",
        "the outputs.\n",
        "\n",
        "```\n",
        "Enter future value: 10000\n",
        "Enter interest rate (as %): 4\n",
        "Enter number of years: 6\n",
        "Present value: $7,903.15\n",
        "```\n",
        " "
      ],
      "metadata": {
        "id": "NAmbuZuTIjJl"
      }
    },
    {
      "cell_type": "markdown",
      "source": [
        "## 2. Present Value \n",
        "\n",
        "The present value (현재 가치) of f dollars at interest rate r% compounded\n",
        "annually for n years is the amount of money that must be invested now in\n",
        "order to grow to f dollars (called the future value, 미래 가치) in n years where the\n",
        "interest rate is r% per year. The formula for present value is\n",
        "\n",
        "$$ present\\ value = \\frac{f}{{(1+\\frac{r}{100})}^n} $$\n",
        "\n",
        "Calculate the present value of an investment after the user enters the future\n",
        "value, interest rate, and number of years. The following figure shows that at\n",
        "4% interest per year, \\\\$7,903.15 must be invested now in order to have \\\\$10,000 after 6 years. \n",
        "\n",
        "The program should use the format method to display\n",
        "the outputs.\n",
        "\n",
        "```\n",
        "Enter future value: 10000\n",
        "Enter interest rate (as %): 4\n",
        "Enter number of years: 6\n",
        "Present value: $7,903.15\n",
        "```\n",
        " "
      ],
      "metadata": {
        "id": "BeHAJtnXIihL"
      }
    },
    {
      "cell_type": "markdown",
      "source": [
        "## 3. Pig Latin\n",
        "\n",
        "Write a program that requests a word (in lowercase letters) as\n",
        "input and translates the word into Pig Latin. The rules for translating a word\n",
        "into Pig Latin are as follows:\n",
        "\n",
        "(a) If the word begins with a group of consonants(자음), move them to the end of\n",
        "the word and add `ay`. For instance, *chip* becomes *ipchay*.\n",
        "\n",
        "(b) If the word begins with a vowel(모음), add `way` to the end of the word. For\n",
        "instance, *else* becomes *elseway*.\n",
        "\n",
        "```\n",
        "Enter word to translate: chip\n",
        "The word in Pig Latin is ipchay.\n",
        "```\n",
        "\n",
        "```\n",
        "Enter word to translate: else\n",
        "The word in Pig Latin is elseway.\n",
        "```"
      ],
      "metadata": {
        "id": "V-bzj3X5DBzN"
      }
    },
    {
      "cell_type": "code",
      "source": [
        "word = input('Enter word to translate:')\n",
        "vowel = 'aeiou'\n",
        "lst = [1,2,3,4,5]\n",
        "\n",
        "if 3 in lst:\n",
        "\n",
        "\n",
        "if word[0] in vowel:\n",
        "  print('The word in Pig Latin is {}'.format(word+'way'))\n",
        "else:\n",
        "  for idx, ch in enumerate(word):\n",
        "    if ch in vowel:\n",
        "      print('The word in Pig Latin is {}'.format(word[idx:]+word[:idx]+'ay'))"
      ],
      "metadata": {
        "id": "pLTYxtZKEnP4",
        "colab": {
          "base_uri": "https://localhost:8080/"
        },
        "outputId": "836f3a57-4787-4768-cdcf-ce34eee1fe0c"
      },
      "execution_count": null,
      "outputs": [
        {
          "output_type": "stream",
          "name": "stdout",
          "text": [
            "Enter word to translate:else\n",
            "The word in Pig Latin is elseway\n"
          ]
        }
      ]
    },
    {
      "cell_type": "markdown",
      "source": [
        "# 4. Bouncing Ball\n",
        "\n",
        "The coefficient of restitution of a ball (공의 반발 계수), a number between 0 and 1, specifies how much energy is conserved when the ball hits a rigid surface. A coefficient of .9, for instance, means a bouncing ball will rise to 90% of its previous height after each bounce. Write a program to input a coefficient of restitution and an initial height in meters, and report how many times a ball bounces when dropped from its initial height before it rises to a height of less than 10 centimeters. Also report the total distance traveled by the ball before this point. The coefficients of restitution of a tennis ball, basketball, super ball, and softball are .7, .75,  .9, and .3, respectively.\n",
        "\n",
        "```\n",
        "Enter coefficient of restitution: .7\n",
        "Enter initial height in meters: 8\n",
        "Number of bounces: 13\n",
        "Meters traveled: 44.82\n",
        "```"
      ],
      "metadata": {
        "id": "JeTmpMPeFivF"
      }
    },
    {
      "cell_type": "code",
      "source": [
        "coef = float(input('Enter coefficient of restitution:'))\n",
        "height = int(input('Enter initial height in meters:'))\n",
        "\n",
        "meters = height\n",
        "bounces=1\n",
        "\n",
        "while True:\n",
        "  height = (height * coef)\n",
        "  if height < .1:   #  before this point\n",
        "    break\n",
        "  meters += height*2\n",
        "  bounces += 1\n",
        "\n",
        "print('Number of bounces: {}'.format(bounces))\n",
        "print('Meters traveled: {:.2f}'.format(meters))"
      ],
      "metadata": {
        "id": "gqi8rgstFx3l",
        "colab": {
          "base_uri": "https://localhost:8080/"
        },
        "outputId": "fb6ce2ea-d33c-4a34-ed39-c3da1dc62447"
      },
      "execution_count": null,
      "outputs": [
        {
          "output_type": "stream",
          "name": "stdout",
          "text": [
            "Enter coefficient of restitution:.7\n",
            "Enter initial height in meters:8\n",
            "Number of bounces: 13\n",
            "Meters traveled: 44.82\n"
          ]
        }
      ]
    },
    {
      "cell_type": "markdown",
      "source": [
        "## 5. Digit Sum\n",
        "\n",
        "Write a program to calculate the total sum of the digits in the integers from 1 to a million.\n",
        "\n",
        "```\n",
        "The sum of the digits in the numbers\n",
        "from 1 to one million is 27,000,001.\n",
        "```"
      ],
      "metadata": {
        "id": "0EcXiSICGkXm"
      }
    },
    {
      "cell_type": "code",
      "source": [
        "print('The sum of the digits in the numbers')\n",
        "sum = 0\n",
        "for x in range(1, 1_000_001):\n",
        "  while x!=0:\n",
        "    d = x%10\n",
        "    x = x//10\n",
        "    sum += d\n",
        "print('from 1 to one million is {:,}'.format(sum))    \n",
        "#print('from 1 to one million is {:,}'.format(sum(range(1, 1_000_001))))"
      ],
      "metadata": {
        "id": "c-mMlmy2GruK",
        "colab": {
          "base_uri": "https://localhost:8080/"
        },
        "outputId": "82e23f6e-b673-40ce-af11-004a749f192b"
      },
      "execution_count": null,
      "outputs": [
        {
          "output_type": "stream",
          "name": "stdout",
          "text": [
            "The sum of the digits in the numbers\n",
            "from 1 to one million is 27,000,001\n"
          ]
        }
      ]
    }
  ]
}