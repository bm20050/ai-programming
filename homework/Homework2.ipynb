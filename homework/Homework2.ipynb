{
 "nbformat": 4,
 "nbformat_minor": 0,
 "metadata": {
  "colab": {
   "provenance": []
  },
  "kernelspec": {
   "name": "python3",
   "display_name": "Python 3"
  },
  "language_info": {
   "name": "python"
  }
 },
 "cells": [
  {
   "cell_type": "markdown",
   "source": [
    "# Homework 2"
   ],
   "metadata": {
    "id": "Lcr-JDY0EXVV"
   }
  },
  {
   "cell_type": "markdown",
   "source": [
    "Note: For the following exercises, write a program to solve the problem and\n",
    "display the answer. A possible output is shown in a shaded box and responses\n",
    "to input statements appear underlined."
   ],
   "metadata": {
    "id": "1EhEQC6IClgZ"
   }
  },
  {
   "cell_type": "markdown",
   "source": [
    "## 1. Analyze a Sentence\n",
    "\n",
    "Write a program that displays the first and last words of a sentence input by the user. Assume that the only punctuation is a period at the end of the sentence.\n",
    "\n",
    "Output:\n",
    "```\n",
    "Enter a sentence: Reach for the stars.\n",
    "First word: Reach\n",
    "Last word: stars\n",
    "```"
   ],
   "metadata": {
    "collapsed": false
   }
  },
  {
   "cell_type": "code",
   "execution_count": null,
   "outputs": [],
   "source": [],
   "metadata": {
    "collapsed": false
   }
  },
  {
   "cell_type": "markdown",
   "source": [
    "## 2. Name\n",
    "\n",
    "Write a program that requests a three-part name and then displays the middle name.\n",
    "\n",
    "```\n",
    "Enter a 3-part name: Michael Andrew Fox\n",
    "Middle name: Andrew\n",
    "```\n"
   ],
   "metadata": {
    "collapsed": false
   }
  },
  {
   "cell_type": "markdown",
   "source": [
    "## 3. Median\n",
    "\n",
    "The median of an ordered set of measurements is a number separating the lower half from the upper half. If the number of measurements is odd, the median is the middle measurement. If the number of measurements is even, the median is the average of the two middle measurements. Write a program that requests a number n and a set of n measurements (not necessarily ordered) as input and then displays the median of the measurements.\n",
    "\n",
    "```\n",
    "How many numbers do you want to enter? 4\n",
    "Enter a number: 9\n",
    "Enter a number: 3\n",
    "Enter a number: 6\n",
    "Enter a number: 5\n",
    "Median: 5.5\n",
    "```"
   ],
   "metadata": {
    "id": "V-bzj3X5DBzN"
   }
  },
  {
   "cell_type": "markdown",
   "source": [
    "# 4. Puzzle\n",
    "\n",
    "The following puzzle is known as The Big Cross-Out Swindle.“Beginning with the word ‘NAISNIENLGELTETWEORRSD,’ cross out nine letters in such a way that the remaining letters spell a single word”. Write a program that creates variables named startingWord, crossedOutLetters, and remainingLetters. The program should assign to startingWord the string given in the puzzle, assign to crossedOutLetters a list containing every other letter of startingWord beginning with the initial letter N, and assign to remainingLetters a list containing every other letter of startingWord beginning with the second letter, A. The program should then display the values of the three variables.\n",
    "\n",
    "```\n",
    "Starting word: NAISNIENLGELTETWEORRSD\n",
    "Crossed out letters: N I N E L E T T E R S\n",
    "Remaining letters: A S I N G L E W O R D\n",
    "```"
   ],
   "metadata": {
    "id": "JeTmpMPeFivF"
   }
  },
  {
   "cell_type": "markdown",
   "source": [
    "## 5. Special Number\n",
    "\n",
    "Write a program to find the four-digit number, call it abcd, whose digits are reversed when the number is multiplied by 4. That is, 4 ´ abcd = dcba.\n",
    "\n",
    "```\n",
    "Since 4 times 2178 is 8712,\n",
    "the special number is 2178.\n",
    "```"
   ],
   "metadata": {
    "id": "0EcXiSICGkXm"
   }
  },
  {
   "cell_type": "markdown",
   "source": [
    "### 6. Count Function\n",
    "\n",
    "Suppose the count function for a string didn’t exist. Define a function that returns the number of non-overlapping occurrences of a substring in a string.\n",
    "\n"
   ],
   "metadata": {
    "id": "0Hrmx03Kwwp9"
   }
  },
  {
   "cell_type": "markdown",
   "source": [
    "7. Pay Raise\n",
    "\n",
    "Write a pay-raise program that requests a person’s first name, last name, and current annual salary, and then displays the person’s salary for next year. People earning less than $40,000 will receive a 5% raise, and those earning \\$40,000 or more will receive a raise of \\$2,000 plus 2% of the amount over \\$40,000. Use functions for input and output, and a function to calculate the new salary.\n",
    "\n",
    "```\n",
    "Enter first name: John\n",
    "Enter last name: Doe\n",
    "Enter current salary: 48000\n",
    "New salary for John Doe: $50,160.00\n",
    "```"
   ],
   "metadata": {
    "id": "ohAMFE68w3Nl"
   }
  }
 ]
}
