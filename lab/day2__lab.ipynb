{
 "nbformat": 4,
 "nbformat_minor": 0,
 "metadata": {
  "colab": {
   "provenance": [],
   "toc_visible": true
  },
  "kernelspec": {
   "name": "python3",
   "language": "python",
   "display_name": "Python 3 (ipykernel)"
  },
  "language_info": {
   "name": "python"
  }
 },
 "cells": [
  {
   "cell_type": "markdown",
   "source": [
    "# Lab3"
   ],
   "metadata": {
    "id": "ZYJeA4fpcGNk"
   }
  },
  {
   "cell_type": "markdown",
   "source": [
    "1. Write a program that takes a number from the user and determines whether it's even or odd.\n",
    "\n",
    "\toutput: odd or even\n",
    "\n",
    "\n"
   ],
   "metadata": {
    "id": "0AZqhmeccW7p"
   }
  },
  {
   "cell_type": "code",
   "source": [
    "n = int(input('숫자를 입력하세요.'))\n",
    "if n % 2 == 0:\n",
    "    print('짝수')\n",
    "else:\n",
    "    print('홀수')"
   ],
   "metadata": {
    "id": "SBUQ1WRTc1Nz",
    "ExecuteTime": {
     "start_time": "2023-04-05T11:25:21.367473Z",
     "end_time": "2023-04-05T11:25:23.866904Z"
    }
   },
   "execution_count": 1,
   "outputs": [
    {
     "name": "stdout",
     "output_type": "stream",
     "text": [
      "홀수\n"
     ]
    }
   ]
  },
  {
   "cell_type": "markdown",
   "source": [
    "2. Write a program that takes three numbers from the user and determines the largest of the three.\n",
    "\n",
    "\n"
   ],
   "metadata": {
    "id": "mGbPfQJEc5pl"
   }
  },
  {
   "cell_type": "code",
   "source": [
    "arr = [0] * 3\n",
    "for i in range(3):\n",
    "    arr[i] = int(input('숫자를 입력하세요.'))\n",
    "print(max(arr))"
   ],
   "metadata": {
    "id": "mGAC-9rSc7Qd",
    "ExecuteTime": {
     "start_time": "2023-04-05T11:25:52.168652Z",
     "end_time": "2023-04-05T11:25:55.405527Z"
    }
   },
   "execution_count": 3,
   "outputs": [
    {
     "name": "stdout",
     "output_type": "stream",
     "text": [
      "3\n"
     ]
    }
   ]
  },
  {
   "cell_type": "markdown",
   "source": [
    "\n",
    "3. Write a program that reads an integer as input and determines if it is a multiple of both 3 and 5.\n",
    "\n",
    "\toutput: multiple or not multiple\n",
    "\n"
   ],
   "metadata": {
    "id": "INqFk2K5c7ks"
   }
  },
  {
   "cell_type": "code",
   "source": [
    "n = int(input('정수를 입력하세요.'))\n",
    "if n % 3 == 0 and n % 5 == 0:\n",
    "    print('multiple')\n",
    "else:\n",
    "    print('not multiple')"
   ],
   "metadata": {
    "id": "B2c46qWfc8z0",
    "ExecuteTime": {
     "start_time": "2023-04-05T11:27:20.221134Z",
     "end_time": "2023-04-05T11:27:22.158151Z"
    }
   },
   "execution_count": 5,
   "outputs": [
    {
     "name": "stdout",
     "output_type": "stream",
     "text": [
      "not multiple\n"
     ]
    }
   ]
  },
  {
   "cell_type": "markdown",
   "source": [
    "\n",
    "4. Write a Python program that takes three numbers as input and determines whether they form a Pythagorean triple.\n",
    "\n",
    "\toutput: pythagorean or not pythagorean"
   ],
   "metadata": {
    "id": "jAEoPcBXc9kM"
   }
  },
  {
   "cell_type": "code",
   "source": [
    "arr = list(map(int, input().split()))\n",
    "\n",
    "arr.sort()\n",
    "if arr[0] ** 2 + arr[1] ** 2 == arr[2] ** 2:\n",
    "    print('pythagorean')\n",
    "else:\n",
    "    print('not pythagorean')"
   ],
   "metadata": {
    "id": "nJN7nZ1Nc-ad",
    "ExecuteTime": {
     "start_time": "2023-04-05T11:29:34.128288Z",
     "end_time": "2023-04-05T11:29:38.317166Z"
    }
   },
   "execution_count": 6,
   "outputs": [
    {
     "name": "stdout",
     "output_type": "stream",
     "text": [
      "pythagorean\n"
     ]
    }
   ]
  },
  {
   "cell_type": "markdown",
   "source": [
    "5. Write a Python program that takes a user's weight and height as input and calculates their body mass index (BMI). \n",
    "\n",
    "\toutput: < 18.5 : underweight, 18.5 - 24.9 normal weight, <= 25.0 overweight\n",
    "\n",
    "\n",
    "\n",
    "\n"
   ],
   "metadata": {
    "id": "EkRNBCyLctUY"
   }
  },
  {
   "cell_type": "code",
   "source": [
    "weight = float(input('몸무게를 입력하세요.'))\n",
    "high = float(input('키를 입력하세요.')) / 100\n",
    "bmi = weight / high ** 2\n",
    "if bmi < 18.5:\n",
    "    print('underweight')\n",
    "elif 18.5 <= bmi <= 24.9:\n",
    "    print('normal weight')\n",
    "else:\n",
    "    print('overweight')"
   ],
   "metadata": {
    "id": "BxdeHEF_cB3C",
    "ExecuteTime": {
     "start_time": "2023-04-05T11:34:04.620532Z",
     "end_time": "2023-04-05T11:34:09.690037Z"
    }
   },
   "execution_count": 9,
   "outputs": [
    {
     "name": "stdout",
     "output_type": "stream",
     "text": [
      "24.089129780186692\n",
      "normal weight\n"
     ]
    }
   ]
  },
  {
   "cell_type": "markdown",
   "source": [
    "6. Write a Python program that takes two strings as input and determines whether they are anagrams. If the two strings are anagrams (i.e., they have the same letters in a different order)\n",
    "\n",
    "  output: anagrams or not anagrams"
   ],
   "metadata": {
    "id": "tdJa-fe6Lu_N"
   }
  },
  {
   "cell_type": "code",
   "source": [
    "s1 = input('단어1을 입력하세요.')\n",
    "s2 = input('단어2를 입력하세요.')\n",
    "s1 = sorted(s1)\n",
    "s2 = sorted(s2)\n",
    "flag = True\n",
    "\n",
    "for i, j in zip(s1, s2):\n",
    "    if i != j:\n",
    "        flag = False\n",
    "        break;\n",
    "\n",
    "if flag:\n",
    "    print('anagrams')\n",
    "else:\n",
    "    print('not anagrams')"
   ],
   "metadata": {
    "id": "4CuQ-rftL-3y",
    "ExecuteTime": {
     "start_time": "2023-04-05T11:39:15.650395Z",
     "end_time": "2023-04-05T11:39:21.413195Z"
    }
   },
   "execution_count": 16,
   "outputs": [
    {
     "name": "stdout",
     "output_type": "stream",
     "text": [
      "anagrams\n"
     ]
    }
   ]
  },
  {
   "cell_type": "markdown",
   "source": [
    "# Lab4"
   ],
   "metadata": {
    "id": "9fgcLU2reahl"
   }
  },
  {
   "cell_type": "markdown",
   "source": [
    "1. Write a program to find the sum of all numbers between 1 and 100 that are divisible by 7 using a while loop."
   ],
   "metadata": {
    "id": "dI9p5_rNec8G"
   }
  },
  {
   "cell_type": "code",
   "source": [
    "n = 1\n",
    "sum = 0\n",
    "while n <= 100:\n",
    "    if n % 7 == 0:\n",
    "        sum += n\n",
    "    n += 1\n",
    "print(sum)"
   ],
   "metadata": {
    "id": "nvheaxJOedT9",
    "ExecuteTime": {
     "start_time": "2023-04-05T11:40:56.859608Z",
     "end_time": "2023-04-05T11:40:56.875204Z"
    }
   },
   "execution_count": 18,
   "outputs": [
    {
     "name": "stdout",
     "output_type": "stream",
     "text": [
      "735\n"
     ]
    }
   ]
  },
  {
   "cell_type": "markdown",
   "source": [
    "2. Write a program that prints the multiplication table for a given number using a for loop."
   ],
   "metadata": {
    "id": "wDOVnwLTee8p"
   }
  },
  {
   "cell_type": "code",
   "source": [
    "n = int(input('숫자를 입력하세요.'))\n",
    "for i in range(1, 10):\n",
    "    print(n, '*', i, '=', n * i)"
   ],
   "metadata": {
    "id": "YeC_cgT3ee8q",
    "ExecuteTime": {
     "start_time": "2023-04-05T11:42:28.860727Z",
     "end_time": "2023-04-05T11:42:30.172925Z"
    }
   },
   "execution_count": 20,
   "outputs": [
    {
     "name": "stdout",
     "output_type": "stream",
     "text": [
      "5 * 1 = 5\n",
      "5 * 2 = 10\n",
      "5 * 3 = 15\n",
      "5 * 4 = 20\n",
      "5 * 5 = 25\n",
      "5 * 6 = 30\n",
      "5 * 7 = 35\n",
      "5 * 8 = 40\n",
      "5 * 9 = 45\n"
     ]
    }
   ]
  },
  {
   "cell_type": "markdown",
   "source": [],
   "metadata": {
    "collapsed": false
   }
  },
  {
   "cell_type": "markdown",
   "source": [
    "3. Write a program that reads a positive integer and checks if it's a prime number using a for loop."
   ],
   "metadata": {
    "id": "J5zjEzX3efP0"
   }
  },
  {
   "cell_type": "code",
   "source": [
    "n = int(input('양의 정수를 입력하세요.'))\n",
    "flag = True\n",
    "for i in range(2, n):\n",
    "    if n % i == 0:\n",
    "        flag = False\n",
    "        break\n",
    "if flag:\n",
    "    print('소수')\n",
    "else:\n",
    "    print('소수 아님')"
   ],
   "metadata": {
    "id": "Q7DxZNeGefP0",
    "ExecuteTime": {
     "start_time": "2023-04-05T11:44:59.952734Z",
     "end_time": "2023-04-05T11:45:02.387142Z"
    }
   },
   "execution_count": 21,
   "outputs": [
    {
     "name": "stdout",
     "output_type": "stream",
     "text": [
      "소수\n"
     ]
    }
   ]
  },
  {
   "cell_type": "markdown",
   "source": [
    "4. Write a program that reads a string and reverses it using a loop. The program should also count and display the number of vowels in the string.\n"
   ],
   "metadata": {
    "id": "P5k8YQd9dmUT"
   }
  },
  {
   "cell_type": "code",
   "source": [
    "s = input('문자열을 입력하세요')\n",
    "ss = \"\"\n",
    "for i in range(len(s) - 1, -1, -1):\n",
    "    ss += s[i]\n",
    "\n",
    "print(ss)"
   ],
   "metadata": {
    "id": "EBIwt03Kdnpp",
    "ExecuteTime": {
     "start_time": "2023-04-05T11:48:26.204296Z",
     "end_time": "2023-04-05T11:48:27.969478Z"
    }
   },
   "execution_count": 25,
   "outputs": [
    {
     "name": "stdout",
     "output_type": "stream",
     "text": [
      "cba\n"
     ]
    }
   ]
  },
  {
   "cell_type": "markdown",
   "source": [
    "5. Write a program that prints the following patterns using loops:\n",
    "\n",
    "```\n",
    "*****\n",
    " ****\n",
    "  ***\n",
    "   **\n",
    "    *\n",
    "```"
   ],
   "metadata": {
    "id": "mPv8F8IDdsNB"
   }
  },
  {
   "cell_type": "code",
   "source": [
    "for i in range(5):\n",
    "    for j in range(i):\n",
    "        print(' ', end='')\n",
    "    for k in range(i, 5):\n",
    "        print('*', end='')\n",
    "    print()\n"
   ],
   "metadata": {
    "id": "tXDgAKGadyDx",
    "ExecuteTime": {
     "start_time": "2023-04-05T11:53:33.785001Z",
     "end_time": "2023-04-05T11:53:33.794888Z"
    }
   },
   "execution_count": 27,
   "outputs": [
    {
     "name": "stdout",
     "output_type": "stream",
     "text": [
      "*****\n",
      " ****\n",
      "  ***\n",
      "   **\n",
      "    *\n"
     ]
    }
   ]
  },
  {
   "cell_type": "markdown",
   "source": [
    "6. Create a shopping list program that allows the user to add item names to the list, remove items, and display the list using loops. The program should continuously ask the user for input until they choose to exit.\n",
    "\n",
    "\n",
    "```\n",
    "Choose an option:\n",
    "1. Add item name\n",
    "2. Remove item by name\n",
    "3. Display list\n",
    "4. Exit\n",
    "```\n"
   ],
   "metadata": {
    "id": "aTfwJbtWeNxR"
   }
  },
  {
   "cell_type": "code",
   "source": [
    "d = []\n",
    "while True:\n",
    "    n = int(input('Choose an option: \\n \\\n",
    "        1. Add item name \\n \\\n",
    "        2. Remove item by name \\n \\\n",
    "        3. Display list \\n \\\n",
    "        4. Exit'))\n",
    "\n",
    "    if n == 1:\n",
    "        name = input('Add')\n",
    "        d.append(name)\n",
    "    elif n == 2:\n",
    "        name = input('Remove')\n",
    "        d.remove(name)\n",
    "    elif n == 3:\n",
    "        for i in d:\n",
    "            print(i)\n",
    "    elif n == 4:\n",
    "        break"
   ],
   "metadata": {
    "id": "APNy8a6ZeO6l",
    "ExecuteTime": {
     "start_time": "2023-04-05T12:01:40.094316Z",
     "end_time": "2023-04-05T12:02:07.590854Z"
    }
   },
   "execution_count": 34,
   "outputs": [
    {
     "name": "stdout",
     "output_type": "stream",
     "text": [
      "a\n",
      "b\n",
      "a\n",
      "b\n",
      "a\n",
      "b\n",
      "a\n",
      "b\n",
      "a\n",
      "b\n",
      "b\n",
      "b\n",
      "b\n",
      "b\n",
      "b\n",
      "b\n"
     ]
    }
   ]
  },
  {
   "cell_type": "code",
   "execution_count": null,
   "outputs": [],
   "source": [],
   "metadata": {
    "collapsed": false
   }
  }
 ]
}
