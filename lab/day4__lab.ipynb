{
 "nbformat": 4,
 "nbformat_minor": 0,
 "metadata": {
  "colab": {
   "provenance": []
  },
  "kernelspec": {
   "name": "python3",
   "language": "python",
   "display_name": "Python 3 (ipykernel)"
  },
  "language_info": {
   "name": "python"
  }
 },
 "cells": [
  {
   "cell_type": "markdown",
   "source": [
    "# Lab7"
   ],
   "metadata": {
    "id": "ZYJeA4fpcGNk"
   }
  },
  {
   "cell_type": "markdown",
   "source": [
    "## 0. Prerequisite"
   ],
   "metadata": {
    "id": "0AZqhmeccW7p"
   }
  },
  {
   "cell_type": "code",
   "source": [
    "!pip install mypy\n",
    "from IPython.core.magic import register_cell_magic\n",
    "from IPython import get_ipython\n",
    "from mypy import api\n",
    "\n",
    "@register_cell_magic\n",
    "def mypy(line, cell):\n",
    "  for output in api.run(['-c', '\\n' + cell] + line.split()):\n",
    "    if output and not output.startswith('Success'):\n",
    "      raise TypeError(output)\n",
    "  get_ipython().run_cell(cell)"
   ],
   "metadata": {
    "colab": {
     "base_uri": "https://localhost:8080/"
    },
    "id": "gyxzozzA4prN",
    "outputId": "a7492a66-3295-4314-ef72-8dd9d870ebcb",
    "ExecuteTime": {
     "start_time": "2023-04-10T11:41:56.209108Z",
     "end_time": "2023-04-10T11:42:00.227477Z"
    }
   },
   "execution_count": 1,
   "outputs": [
    {
     "name": "stdout",
     "output_type": "stream",
     "text": [
      "Collecting mypy\n",
      "  Downloading mypy-1.2.0-cp310-cp310-win_amd64.whl (8.9 MB)\n",
      "     ---------------------------------------- 8.9/8.9 MB 17.8 MB/s eta 0:00:00\n",
      "Collecting typing-extensions>=3.10\n",
      "  Using cached typing_extensions-4.5.0-py3-none-any.whl (27 kB)\n",
      "Collecting mypy-extensions>=1.0.0\n",
      "  Downloading mypy_extensions-1.0.0-py3-none-any.whl (4.7 kB)\n",
      "Collecting tomli>=1.1.0\n",
      "  Using cached tomli-2.0.1-py3-none-any.whl (12 kB)\n",
      "Installing collected packages: typing-extensions, tomli, mypy-extensions, mypy\n",
      "Successfully installed mypy-1.2.0 mypy-extensions-1.0.0 tomli-2.0.1 typing-extensions-4.5.0\n"
     ]
    },
    {
     "name": "stderr",
     "output_type": "stream",
     "text": [
      "\n",
      "[notice] A new release of pip available: 22.3.1 -> 23.0.1\n",
      "[notice] To update, run: python.exe -m pip install --upgrade pip\n"
     ]
    }
   ]
  },
  {
   "cell_type": "markdown",
   "source": [
    "## 1. Write a function is_even_or_odd(n: int) -> str that takes an integer as input and determines whether it's even or odd.\n",
    "\n",
    "\n"
   ],
   "metadata": {
    "id": "AL3MoBZO5NpL"
   }
  },
  {
   "cell_type": "code",
   "execution_count": 16,
   "outputs": [
    {
     "name": "stdout",
     "output_type": "stream",
     "text": [
      "Odd\n",
      "Even\n",
      "Odd\n",
      "Even\n",
      "Even\n"
     ]
    }
   ],
   "source": [
    "def is_even_or_odd(n: int) -> str:\n",
    "  #implement your code\n",
    "  if n % 2 == 0:\n",
    "      return \"Even\"\n",
    "  else:\n",
    "      return \"Odd\"\n",
    "\n",
    "input_data_even_odd = [5, 2, -3, -4, 0]\n",
    "output_data_even_odd = [\"Odd\", \"Even\", \"Odd\", \"Even\", \"Even\"]\n",
    "for i, o in zip(input_data_even_odd, output_data_even_odd):\n",
    "    print(is_even_or_odd(i))"
   ],
   "metadata": {
    "collapsed": false,
    "pycharm": {
     "name": "#%%mypy\n"
    },
    "ExecuteTime": {
     "start_time": "2023-04-10T11:56:34.070724Z",
     "end_time": "2023-04-10T11:56:34.070724Z"
    }
   }
  },
  {
   "cell_type": "markdown",
   "source": [
    "## 2. Write a function largest_of_three(a: int, b: int, c: int) -> int that takes three numbers as input and determines the largest of the three."
   ],
   "metadata": {
    "id": "mGbPfQJEc5pl"
   }
  },
  {
   "cell_type": "code",
   "source": [
    "def largest_of_three(a: int, b: int, c: int) -> int:\n",
    "  #implement your code\n",
    "  return max([a, b, c])\n",
    "\n",
    "input_data_largest_of_three = [(2, 4, 1), (1, 1, 1), (2, 2, 5), (-1, 0, -2)]\n",
    "output_data_largest_of_three = [4, 1, 5, 0]\n",
    "\n",
    "for i, o in zip(input_data_largest_of_three, output_data_largest_of_three):\n",
    "    #assert largest_of_three(*i) == o\n",
    "    print(largest_of_three(*i))"
   ],
   "metadata": {
    "id": "mGAC-9rSc7Qd",
    "ExecuteTime": {
     "start_time": "2023-04-10T11:56:46.329289Z",
     "end_time": "2023-04-10T11:56:46.344914Z"
    }
   },
   "execution_count": 17,
   "outputs": [
    {
     "name": "stdout",
     "output_type": "stream",
     "text": [
      "4\n",
      "1\n",
      "5\n",
      "0\n"
     ]
    }
   ]
  },
  {
   "cell_type": "markdown",
   "source": [
    "## 3. Write a function is_multiple_of_3_and_5(n: int) -> bool that reads an integer as input and determines if it is a multiple of both 3 and 5.\n",
    "\n"
   ],
   "metadata": {
    "id": "INqFk2K5c7ks"
   }
  },
  {
   "cell_type": "code",
   "source": [
    "\n",
    "def is_multiple_of_3_and_5(n: int) -> bool:\n",
    "  #implement your code in one line\n",
    "  if n % 3 == 0 and n % 5 == 0:\n",
    "      return True\n",
    "  else:\n",
    "      return False\n",
    "\n",
    "input_data_multiple_3_5 = [15, 3, 5, 30, 0, -15]\n",
    "output_data_multiple_3_5 = [True, False, False, True, True, True]\n",
    "\n",
    "for input_value, output_value in zip(input_data_multiple_3_5, output_data_multiple_3_5):\n",
    "    #assert is_multiple_of_3_and_5(input_value) == output_value\n",
    "    print(is_multiple_of_3_and_5(input_value))"
   ],
   "metadata": {
    "id": "B2c46qWfc8z0",
    "ExecuteTime": {
     "start_time": "2023-04-10T11:57:05.558713Z",
     "end_time": "2023-04-10T11:57:05.574323Z"
    }
   },
   "execution_count": 18,
   "outputs": [
    {
     "name": "stdout",
     "output_type": "stream",
     "text": [
      "True\n",
      "False\n",
      "False\n",
      "True\n",
      "True\n",
      "True\n"
     ]
    }
   ]
  },
  {
   "cell_type": "markdown",
   "source": [
    "## 4. Write a function is_pythagorean_triple(a: int, b: int, c: int) -> bool that takes three numbers as input and determines whether they form a Pythagorean triple."
   ],
   "metadata": {
    "id": "jAEoPcBXc9kM"
   }
  },
  {
   "cell_type": "code",
   "source": [
    "\n",
    "\n",
    "def is_pythagorean_triple(a: int, b: int, c: int) -> bool:\n",
    "  #implement your code in one line\n",
    "  list = [a, b, c]\n",
    "  list.sort()\n",
    "  if 0 not in list and list[0] ** 2 + list[1] ** 2 == list[2] ** 2:\n",
    "      return True\n",
    "  else:\n",
    "      return False\n",
    "\n",
    "input_data_pythagorean_triple = [(3, 4, 5), (5, 12, 13), (6, 8, 10), (7, 24, 25), (2, 3, 4), (0, 4, 4)]\n",
    "output_data_pythagorean_triple = [True, True, True, True, False, False]\n",
    "\n",
    "for input_values, output_value in zip(input_data_pythagorean_triple, output_data_pythagorean_triple):\n",
    "    # assert is_pythagorean_triple(*input_values) == output_value\n",
    "    print(is_pythagorean_triple(*input_values))"
   ],
   "metadata": {
    "id": "nJN7nZ1Nc-ad",
    "ExecuteTime": {
     "start_time": "2023-04-10T11:59:11.428100Z",
     "end_time": "2023-04-10T11:59:11.443843Z"
    }
   },
   "execution_count": 24,
   "outputs": [
    {
     "name": "stdout",
     "output_type": "stream",
     "text": [
      "True\n",
      "True\n",
      "True\n",
      "True\n",
      "False\n",
      "False\n"
     ]
    }
   ]
  },
  {
   "cell_type": "markdown",
   "source": [
    "## 5. Write a function calculate_bmi(weight: float, height: float) -> str that takes a user's weight (in kg) and height (in meters) as input and calculates their body mass index (BMI). The function should return the BMI category based on the calculated value. \n",
    "\n",
    "\toutput: BMI < 18.5 : underweight, 18.5 <= BMI < 24.9 normal weight, 25.0 <= BMI overweight\n",
    "\n",
    "\n",
    "\n",
    "\n"
   ],
   "metadata": {
    "id": "EkRNBCyLctUY"
   }
  },
  {
   "cell_type": "code",
   "source": [
    "\n",
    "\n",
    "def calculate_bmi(weight: float, height: float) -> str:\n",
    "  #implement your code in one line\n",
    "  if height == 0:\n",
    "      return \"Invalid input\"\n",
    "  bmi = weight / height ** 2\n",
    "  if bmi < 18.5:\n",
    "      return \"Under weight\"\n",
    "  elif 18.5 <= bmi < 24.9:\n",
    "      return \"Normal weight\"\n",
    "  else:\n",
    "      return \"Over weight\"\n",
    "\n",
    "input_data_bmi_calculator = [(60, 1.7), (45, 1.6), (85, 1.8), (100, 2), (0, 1.5), (60, 0)]\n",
    "output_data_bmi_calculator = [\"Normal weight\", \"Underweight\", \"Overweight\", \"Overweight\", \"Underweight\", \"Invalid input\"]\n",
    "\n",
    "for input_values, output_value in zip(input_data_bmi_calculator, output_data_bmi_calculator):\n",
    "    # assert calculate_bmi(*input_values) == output_value\n",
    "    print(calculate_bmi(*input_values))"
   ],
   "metadata": {
    "id": "BxdeHEF_cB3C",
    "ExecuteTime": {
     "start_time": "2023-04-10T11:55:46.911107Z",
     "end_time": "2023-04-10T11:55:46.973596Z"
    }
   },
   "execution_count": 15,
   "outputs": [
    {
     "name": "stdout",
     "output_type": "stream",
     "text": [
      "normal weight\n",
      "underweight\n",
      "overweight\n",
      "overweight\n",
      "underweight\n",
      "Invalid input\n"
     ]
    }
   ]
  },
  {
   "cell_type": "markdown",
   "source": [
    "## 6. Write a function are_anagrams(s1: str, s2: str) -> bool that takes two strings as input and determines whether they are anagrams."
   ],
   "metadata": {
    "id": "tdJa-fe6Lu_N"
   }
  },
  {
   "cell_type": "code",
   "source": [
    "\n",
    "\n",
    "def are_anagrams(s1: str, s2: str) -> bool:\n",
    "  #implement your code in one line\n",
    "  s1 = sorted(s1)\n",
    "  s2 = sorted(s2)\n",
    "  for i, j in zip(s1, s2):\n",
    "      if i != j:\n",
    "          return False\n",
    "  return True\n",
    "\n",
    "input_data_anagram_checker = [(\"bored\", \"robed\"), (\"listen\", \"silent\"), (\"anagram\", \"nagaram\"), (\"hello\", \"world\"), (\"apple\", \"leppa\"), (\"night\", \"thing\"), (\"abc\", \"def\")]\n",
    "output_data_anagram_checker = [True, True, True, False, True, True, False]\n",
    "\n",
    "for input_values, output_value in zip(input_data_anagram_checker, output_data_anagram_checker):\n",
    "    #assert are_anagrams(*input_values) == output_value\n",
    "    print(are_anagrams(*input_values))"
   ],
   "metadata": {
    "id": "4CuQ-rftL-3y",
    "ExecuteTime": {
     "start_time": "2023-04-10T12:01:21.643745Z",
     "end_time": "2023-04-10T12:01:21.659409Z"
    }
   },
   "execution_count": 32,
   "outputs": [
    {
     "name": "stdout",
     "output_type": "stream",
     "text": [
      "True\n",
      "True\n",
      "True\n",
      "False\n",
      "True\n",
      "True\n",
      "False\n"
     ]
    }
   ]
  },
  {
   "cell_type": "markdown",
   "source": [
    "# Lab8"
   ],
   "metadata": {
    "id": "9fgcLU2reahl"
   }
  },
  {
   "cell_type": "markdown",
   "source": [
    "## 7. Write a function sum_of_multiples(limit: int, divisor: int) -> int that finds the sum of all numbers between 1 and limit that are divisible by divisor using a while loop.\n"
   ],
   "metadata": {
    "id": "dI9p5_rNec8G"
   }
  },
  {
   "cell_type": "code",
   "source": [
    "\n",
    "\n",
    "def sum_of_multiples(limit: int, divisor: int) -> int:\n",
    "  #implement your code in one line\n",
    "  i = 2\n",
    "  sum = 0\n",
    "  while i < limit:\n",
    "    if i % divisor == 0:\n",
    "        sum += i\n",
    "    i += 1\n",
    "  return sum\n",
    "input_data_sum_of_multiples = [(100, 7), (50, 5), (20, 3)]\n",
    "output_data_sum_of_multiples = [735, 275, 63]\n",
    "\n",
    "for input_values, output_value in zip(input_data_sum_of_multiples, output_data_sum_of_multiples):\n",
    "    # assert sum_of_multiples(*input_values) == output_value\n",
    "    print(sum_of_multiples(*input_values))\n",
    "\n"
   ],
   "metadata": {
    "id": "nvheaxJOedT9",
    "ExecuteTime": {
     "start_time": "2023-04-10T12:30:42.844932Z",
     "end_time": "2023-04-10T12:30:42.852907Z"
    }
   },
   "execution_count": 47,
   "outputs": [
    {
     "name": "stdout",
     "output_type": "stream",
     "text": [
      "735\n",
      "225\n",
      "63\n"
     ]
    }
   ]
  },
  {
   "cell_type": "markdown",
   "source": [
    "##8. Write a function multiplication_table(n: int) -> str that takes an integer as input and returns the multiplication table for the given number using a for loop."
   ],
   "metadata": {
    "id": "wDOVnwLTee8p"
   }
  },
  {
   "cell_type": "code",
   "source": [
    "\n",
    "def multiplication_table(n: int) -> str:\n",
    "  #implement your code in one line\n",
    "  s = \"\"\n",
    "  for i in range(1, 10):\n",
    "      if i == 9:\n",
    "        s += str(n) + ' * ' + str(i) + ' = ' + str(n * i)\n",
    "      else:\n",
    "        s += str(n) + ' * ' + str(i) + ' = ' + str(n * i) + \"\\n\"\n",
    "  return s\n",
    " \n",
    "input_data_multiplication_table = [5, 7, 3, 10, 0, -2]\n",
    "output_data_multiplication_table = [\n",
    "    \"5 x 1 = 5\\n5 x 2 = 10\\n5 x 3 = 15\\n5 x 4 = 20\\n5 x 5 = 25\\n5 x 6 = 30\\n5 x 7 = 35\\n5 x 8 = 40\\n5 x 9 = 45\",\n",
    "    \"7 x 1 = 7\\n7 x 2 = 14\\n7 x 3 = 21\\n7 x 4 = 28\\n7 x 5 = 35\\n7 x 6 = 42\\n7 x 7 = 49\\n7 x 8 = 56\\n7 x 9 = 63\",\n",
    "    \"3 x 1 = 3\\n3 x 2 = 6\\n3 x 3 = 9\\n3 x 4 = 12\\n3 x 5 = 15\\n3 x 6 = 18\\n3 x 7 = 21\\n3 x 8 = 24\\n3 x 9 = 27\",\n",
    "    \"10 x 1 = 10\\n10 x 2 = 20\\n10 x 3 = 30\\n10 x 4 = 40\\n10 x 5 = 50\\n10 x 6 = 60\\n10 x 7 = 70\\n10 x 8 = 80\\n10 x 9 = 90\",\n",
    "    \"0 x 1 = 0\\n0 x 2 = 0\\n0 x 3 = 0\\n0 x 4 = 0\\n0 x 5 = 0\\n0 x 6 = 0\\n0 x 7 = 0\\n0 x 8 = 0\\n0 x 9 = 0\",\n",
    "    \"-2 x 1 = -2\\n-2 x 2 = -4\\n-2 x 3 = -6\\n-2 x 4 = -8\\n-2 x 5 = -10\\n-2 x 6 = -12\\n-2 x 7 = -14\\n-2 x 8 = -16\\n-2 x 9 = -18\",\n",
    "]  \n",
    "\n",
    "for input_value, output_value in zip(input_data_multiplication_table, output_data_multiplication_table):\n",
    "    # assert multiplication_table(input_value) == output_value\n",
    "    print(multiplication_table(input_value))"
   ],
   "metadata": {
    "id": "YeC_cgT3ee8q",
    "ExecuteTime": {
     "start_time": "2023-04-10T12:11:55.995627Z",
     "end_time": "2023-04-10T12:11:56.026992Z"
    }
   },
   "execution_count": 42,
   "outputs": [
    {
     "name": "stdout",
     "output_type": "stream",
     "text": [
      "5 * 1 = 5\n",
      "5 * 2 = 10\n",
      "5 * 3 = 15\n",
      "5 * 4 = 20\n",
      "5 * 5 = 25\n",
      "5 * 6 = 30\n",
      "5 * 7 = 35\n",
      "5 * 8 = 40\n",
      "5 * 9 = 45\n",
      "7 * 1 = 7\n",
      "7 * 2 = 14\n",
      "7 * 3 = 21\n",
      "7 * 4 = 28\n",
      "7 * 5 = 35\n",
      "7 * 6 = 42\n",
      "7 * 7 = 49\n",
      "7 * 8 = 56\n",
      "7 * 9 = 63\n",
      "3 * 1 = 3\n",
      "3 * 2 = 6\n",
      "3 * 3 = 9\n",
      "3 * 4 = 12\n",
      "3 * 5 = 15\n",
      "3 * 6 = 18\n",
      "3 * 7 = 21\n",
      "3 * 8 = 24\n",
      "3 * 9 = 27\n",
      "10 * 1 = 10\n",
      "10 * 2 = 20\n",
      "10 * 3 = 30\n",
      "10 * 4 = 40\n",
      "10 * 5 = 50\n",
      "10 * 6 = 60\n",
      "10 * 7 = 70\n",
      "10 * 8 = 80\n",
      "10 * 9 = 90\n",
      "0 * 1 = 0\n",
      "0 * 2 = 0\n",
      "0 * 3 = 0\n",
      "0 * 4 = 0\n",
      "0 * 5 = 0\n",
      "0 * 6 = 0\n",
      "0 * 7 = 0\n",
      "0 * 8 = 0\n",
      "0 * 9 = 0\n",
      "-2 * 1 = -2\n",
      "-2 * 2 = -4\n",
      "-2 * 3 = -6\n",
      "-2 * 4 = -8\n",
      "-2 * 5 = -10\n",
      "-2 * 6 = -12\n",
      "-2 * 7 = -14\n",
      "-2 * 8 = -16\n",
      "-2 * 9 = -18\n"
     ]
    }
   ]
  },
  {
   "cell_type": "markdown",
   "source": [
    "## 9. Write a function is_prime(n: int) -> bool that reads a positive integer and checks if it's a prime number using a for loop."
   ],
   "metadata": {
    "id": "J5zjEzX3efP0"
   }
  },
  {
   "cell_type": "code",
   "source": [
    "\n",
    "\n",
    "def is_prime(n: int) -> bool:\n",
    "    #how can we implement the code in one line?\n",
    "    if n <= 1:\n",
    "        return False\n",
    "    if n == 2:\n",
    "        return True\n",
    "    for i in range(2, n):\n",
    "        if n % i == 0:\n",
    "            return False\n",
    "        else:\n",
    "            return True\n",
    "\n",
    "input_data_prime_checker = [7, 12, 19, 2, 1, 0, -3, 20]\n",
    "output_data_prime_checker = [True, False, True, True, False, False, False, False]\n",
    "\n",
    "for input_value, output_value in zip(input_data_prime_checker, output_data_prime_checker):\n",
    "    # assert is_prime(input_value) == output_value\n",
    "    print(is_prime(input_value))"
   ],
   "metadata": {
    "id": "Q7DxZNeGefP0",
    "ExecuteTime": {
     "start_time": "2023-04-10T12:29:59.227087Z",
     "end_time": "2023-04-10T12:29:59.242820Z"
    }
   },
   "execution_count": 45,
   "outputs": [
    {
     "name": "stdout",
     "output_type": "stream",
     "text": [
      "True\n",
      "False\n",
      "True\n",
      "True\n",
      "False\n",
      "False\n",
      "False\n",
      "False\n"
     ]
    }
   ]
  },
  {
   "cell_type": "markdown",
   "source": [
    "## 10. Write a function reverse(s: str) -> str and count_vowels(s :str) -> int that reads a string, reverses it using a loop, and returns the reversed string and the number of vowels in the string, respectively."
   ],
   "metadata": {
    "id": "P5k8YQd9dmUT"
   }
  },
  {
   "cell_type": "code",
   "source": [
    "\n",
    "\n",
    "def reverse(s: str) -> str:\n",
    "  #implement your code in one line\n",
    "  ss = \"\"\n",
    "  for i in range(len(s) - 1, -1, -1):\n",
    "      ss += s[i]\n",
    "  return ss\n",
    "def count_vowels(s :str) -> int:\n",
    "  #how can we implement the code in one line?\n",
    "  vowels = \"aeiou\"\n",
    "  count = 0\n",
    "  for i in s.lower():\n",
    "      if i in vowels:\n",
    "          count += 1\n",
    "  return count\n",
    "\n",
    "input_data_string_reversal_vowel_count = [\"hello\", \"world\", \"python\", \"aeiou\", \"empty\", \"hElLo\"]\n",
    "output_data_string_reversal_vowel_count = [(\"olleh\", 2), (\"dlrow\", 1), (\"nohtyp\", 1), (\"uoiea\", 5), (\"ytpme\", 1), (\"oLlEh\", 2)]\n",
    "\n",
    "for input_value, output_value in zip(input_data_string_reversal_vowel_count, output_data_string_reversal_vowel_count):\n",
    "    assert (reverse(input_value), count_vowels(input_value)) == output_value\n",
    "    print((reverse(input_value), count_vowels(input_value)))"
   ],
   "metadata": {
    "id": "EBIwt03Kdnpp",
    "ExecuteTime": {
     "start_time": "2023-04-10T12:36:20.475691Z",
     "end_time": "2023-04-10T12:36:20.491339Z"
    }
   },
   "execution_count": 54,
   "outputs": [
    {
     "name": "stdout",
     "output_type": "stream",
     "text": [
      "('olleh', 2)\n",
      "('dlrow', 1)\n",
      "('nohtyp', 1)\n",
      "('uoiea', 5)\n",
      "('ytpme', 1)\n",
      "('oLlEh', 2)\n"
     ]
    }
   ]
  },
  {
   "cell_type": "markdown",
   "source": [
    "## 11. Write a function gen_pattern(n: int) -> str that return the following pattern using loops with n rows:\n",
    "\n",
    "n = 5\n",
    "```\n",
    "*****\n",
    " ****\n",
    "  ***\n",
    "   **\n",
    "    *\n",
    "```"
   ],
   "metadata": {
    "id": "mPv8F8IDdsNB"
   }
  },
  {
   "cell_type": "code",
   "source": [
    "\n",
    "\n",
    "def gen_pattern(n: int) -> str:\n",
    "    #implement your code in one line\n",
    "\n",
    "\n",
    "input_data_gen_pattern = [5, 3, 6, 1]\n",
    "output_data_gen_pattern = [\"*****\\n ****\\n  ***\\n   **\\n    *\",\n",
    "                           \"***\\n **\\n  *\",\n",
    "                           \"******\\n *****\\n  ****\\n   ***\\n    **\\n     *\",\n",
    "                           \"*\"]\n",
    "\n",
    "for input_value, output_value in zip(input_data_gen_pattern, output_data_gen_pattern):\n",
    "    assert gen_pattern(input_value) == output_value"
   ],
   "metadata": {
    "id": "tXDgAKGadyDx"
   },
   "execution_count": null,
   "outputs": []
  },
  {
   "cell_type": "markdown",
   "source": [
    "## 12. Implement the following methods \n",
    "\n",
    "* add_item(item: str) -> None: Add an item to the shopping list.\n",
    "* remove_item(item: str) -> None: Remove an item from the shopping list.\n",
    "* display_list() -> List[str]: Return the current shopping list.\n",
    "* quit() -> None: Exit the shopping list.\n"
   ],
   "metadata": {
    "id": "aTfwJbtWeNxR"
   }
  },
  {
   "cell_type": "code",
   "source": [
    "%%mypy\n",
    "\n",
    "from typing import List, Dict, Callable, Any\n",
    "\n",
    "items = []\n",
    "\n",
    "def add_item(item: str) -> None:\n",
    "  #implement your code in one line\n",
    "  pass\n",
    "\n",
    "def remove_item(item: str) -> None:\n",
    "  #implement your code in one line\n",
    "  pass\n",
    "\n",
    "def display_list(item: str) -> List[str]:\n",
    "  #implement your code in one line\n",
    "  pass\n",
    "\n",
    "def quit(item: str) -> None:\n",
    "  #implement your code in one line\n",
    "  pass\n",
    "\n",
    "commands = {'add': add_item,\n",
    "            'remove': remove_item,\n",
    "            'display': display_list,\n",
    "            'exit': quit}\n",
    "\n",
    "input_data_shopping_list = [(\"add\", \"apple\"), (\"add\", \"banana\"),\n",
    "                            (\"add\", \"orange\"), (\"display\", ''),\n",
    "                            (\"remove\", \"banana\"), (\"display\", ''), \n",
    "                            (\"exit\", '')]\n",
    "\n",
    "output_data_shopping_list = [None, None,None,[\"apple\", \"banana\", \"orange\"], None,[\"apple\", \"orange\"],None]\n",
    "\n",
    "for (action, item), expected_output in zip(input_data_shopping_list, output_data_shopping_list):\n",
    "  assert commands[action](item) == expected_output\n"
   ],
   "metadata": {
    "id": "APNy8a6ZeO6l"
   },
   "execution_count": null,
   "outputs": []
  }
 ]
}
