{
 "nbformat": 4,
 "nbformat_minor": 0,
 "metadata": {
  "colab": {
   "provenance": [
    {
     "file_id": "1HqLFqCyimO-hDqIx03prAr_Bv2ylse8_",
     "timestamp": 1680444898483
    }
   ],
   "toc_visible": true,
   "authorship_tag": "ABX9TyPW/Ast97E1WnznwemYkviF"
  },
  "kernelspec": {
   "name": "python3",
   "language": "python",
   "display_name": "Python 3 (ipykernel)"
  },
  "language_info": {
   "name": "python"
  }
 },
 "cells": [
  {
   "cell_type": "markdown",
   "source": [
    "# Lab1"
   ],
   "metadata": {
    "id": "ZYJeA4fpcGNk"
   }
  },
  {
   "cell_type": "markdown",
   "source": [
    "1. Create a string variable called 'course_name' with the value \"Python for Non-Majors\", and print its length. \n",
    "\n",
    "hint: len()\n",
    "\n",
    "\n"
   ],
   "metadata": {
    "id": "0AZqhmeccW7p"
   }
  },
  {
   "cell_type": "code",
   "source": [
    "course_name = \"Python for Non-Majors\"\n",
    "print(len(course_name))"
   ],
   "metadata": {
    "id": "SBUQ1WRTc1Nz",
    "ExecuteTime": {
     "start_time": "2023-04-03T12:03:40.068788Z",
     "end_time": "2023-04-03T12:03:40.084436Z"
    }
   },
   "execution_count": 1,
   "outputs": [
    {
     "name": "stdout",
     "output_type": "stream",
     "text": [
      "21\n"
     ]
    }
   ]
  },
  {
   "cell_type": "markdown",
   "source": [
    "2. Rename the following invalid variable names to follow Python naming rules: 1st_name, @age, Full-Name, class, list.\n"
   ],
   "metadata": {
    "id": "mGbPfQJEc5pl"
   }
  },
  {
   "cell_type": "code",
   "source": [],
   "metadata": {
    "id": "mGAC-9rSc7Qd"
   },
   "execution_count": null,
   "outputs": []
  },
  {
   "cell_type": "markdown",
   "source": [
    "3. Calculate the result of 5 multiplied by 3, divided by 2, and raised to the power of 4. Use parentheses to ensure correct precedence.\n"
   ],
   "metadata": {
    "id": "INqFk2K5c7ks"
   }
  },
  {
   "cell_type": "code",
   "source": [
    "result = (5 * 3 / 2) ** 4\n",
    "print(result)"
   ],
   "metadata": {
    "id": "B2c46qWfc8z0",
    "ExecuteTime": {
     "start_time": "2023-04-03T12:06:39.366961Z",
     "end_time": "2023-04-03T12:06:39.398201Z"
    }
   },
   "execution_count": 4,
   "outputs": [
    {
     "name": "stdout",
     "output_type": "stream",
     "text": [
      "3164.0625\n"
     ]
    }
   ]
  },
  {
   "cell_type": "markdown",
   "source": [
    "\n",
    "4. Print the values of three variables on the same line, separated by commas and a space.\n",
    "\n",
    "\tname = \"Alice\", age = 30, city = \"New York\""
   ],
   "metadata": {
    "id": "jAEoPcBXc9kM"
   }
  },
  {
   "cell_type": "code",
   "source": [
    "name = \"Alice\"\n",
    "age = 30\n",
    "city = \"New York\"\n",
    "print(name, age, city, sep=', ')"
   ],
   "metadata": {
    "id": "nJN7nZ1Nc-ad",
    "ExecuteTime": {
     "start_time": "2023-04-03T12:08:10.125271Z",
     "end_time": "2023-04-03T12:08:10.140867Z"
    }
   },
   "execution_count": 6,
   "outputs": [
    {
     "name": "stdout",
     "output_type": "stream",
     "text": [
      "Alice, 30, New York\n"
     ]
    }
   ]
  },
  {
   "cell_type": "markdown",
   "source": [
    "5. Create a variable containing a string and reassign it to an integer.\n"
   ],
   "metadata": {
    "id": "EkRNBCyLctUY"
   }
  },
  {
   "cell_type": "code",
   "source": [
    "s = 'hello'\n",
    "s = 5\n",
    "print(s)"
   ],
   "metadata": {
    "id": "BxdeHEF_cB3C",
    "ExecuteTime": {
     "start_time": "2023-04-03T12:46:47.642892Z",
     "end_time": "2023-04-03T12:46:47.642892Z"
    }
   },
   "execution_count": 42,
   "outputs": [
    {
     "name": "stdout",
     "output_type": "stream",
     "text": [
      "5\n"
     ]
    }
   ]
  },
  {
   "cell_type": "markdown",
   "source": [
    "6. Check the data type of a float variable and convert it to an integer.\n"
   ],
   "metadata": {
    "id": "8urakjF8dBKW"
   }
  },
  {
   "cell_type": "code",
   "source": [
    "f = 1.23\n",
    "print(type(f))\n",
    "n = int(f)\n",
    "print(type(n))"
   ],
   "metadata": {
    "id": "gDSlPn3DdDOM",
    "ExecuteTime": {
     "start_time": "2023-04-03T12:10:46.996462Z",
     "end_time": "2023-04-03T12:10:47.027785Z"
    }
   },
   "execution_count": 14,
   "outputs": [
    {
     "name": "stdout",
     "output_type": "stream",
     "text": [
      "<class 'float'>\n",
      "<class 'int'>\n"
     ]
    }
   ]
  },
  {
   "cell_type": "markdown",
   "source": [
    "7. Given an integer and a float, calculate their sum and product. Store the results in two separate variables and print them.\n"
   ],
   "metadata": {
    "id": "Zlqm6hu3dDno"
   }
  },
  {
   "cell_type": "code",
   "source": [
    "a = 1\n",
    "b = 1.5\n",
    "print(a + b)\n",
    "print(a * b)"
   ],
   "metadata": {
    "id": "04L2YydrdE13",
    "ExecuteTime": {
     "start_time": "2023-04-03T12:15:20.318393Z",
     "end_time": "2023-04-03T12:15:20.334013Z"
    }
   },
   "execution_count": 15,
   "outputs": [
    {
     "name": "stdout",
     "output_type": "stream",
     "text": [
      "2.5\n",
      "1.5\n"
     ]
    }
   ]
  },
  {
   "cell_type": "markdown",
   "source": [
    "8. Use comparison and logical operators to evaluate a condition. The comparison should check if x is less than y, and if y is less than z. Print the value of result to the console.\n",
    "\n",
    "\tx = 10, y = 20, z = 30"
   ],
   "metadata": {
    "id": "DsXdhO5zdFQX"
   }
  },
  {
   "cell_type": "code",
   "source": [
    "x = 10\n",
    "y = 20\n",
    "z = 30\n",
    "print(x < y < z)"
   ],
   "metadata": {
    "id": "ZFivLJHCdGK3",
    "ExecuteTime": {
     "start_time": "2023-04-03T12:23:23.611838Z",
     "end_time": "2023-04-03T12:23:23.643077Z"
    }
   },
   "execution_count": 16,
   "outputs": [
    {
     "name": "stdout",
     "output_type": "stream",
     "text": [
      "True\n"
     ]
    }
   ]
  },
  {
   "cell_type": "markdown",
   "source": [
    "# Lab2"
   ],
   "metadata": {
    "collapsed": false
   }
  },
  {
   "cell_type": "markdown",
   "source": [
    "1. Create a string of 10 asterisks using repetition, and print the length of the string.\n",
    "\n",
    "\ttext = “*”"
   ],
   "metadata": {
    "id": "dI9p5_rNec8G"
   }
  },
  {
   "cell_type": "code",
   "execution_count": 18,
   "outputs": [
    {
     "name": "stdout",
     "output_type": "stream",
     "text": [
      "**********\n",
      "10\n"
     ]
    }
   ],
   "source": [
    "text = '*'\n",
    "print(text * 10)\n",
    "print(len(text * 10))"
   ],
   "metadata": {
    "collapsed": false,
    "ExecuteTime": {
     "start_time": "2023-04-03T12:25:26.830673Z",
     "end_time": "2023-04-03T12:25:26.846411Z"
    }
   }
  },
  {
   "cell_type": "markdown",
   "source": [
    "2. Convert a string to title case and print the result. hint: title()\n",
    "\n",
    "\ttext = \"hello world\""
   ],
   "metadata": {
    "id": "wDOVnwLTee8p"
   }
  },
  {
   "cell_type": "code",
   "source": [
    "text = \"hello world\"\n",
    "print(text.title())"
   ],
   "metadata": {
    "id": "YeC_cgT3ee8q",
    "ExecuteTime": {
     "start_time": "2023-04-03T12:25:48.906283Z",
     "end_time": "2023-04-03T12:25:48.921968Z"
    }
   },
   "execution_count": 19,
   "outputs": [
    {
     "name": "stdout",
     "output_type": "stream",
     "text": [
      "Hello World\n"
     ]
    }
   ]
  },
  {
   "cell_type": "markdown",
   "source": [
    "3. Slice a string to obtain every second character, starting from the first character.\n",
    "\n",
    "\ttext = \"Python is fun!\""
   ],
   "metadata": {
    "id": "J5zjEzX3efP0"
   }
  },
  {
   "cell_type": "code",
   "source": [
    "text = \"Python is fun!\"\n",
    "t = text.split(' ')\n",
    "for i in t:\n",
    "    print(i[1:2])"
   ],
   "metadata": {
    "id": "Q7DxZNeGefP0",
    "ExecuteTime": {
     "start_time": "2023-04-03T12:28:08.505899Z",
     "end_time": "2023-04-03T12:28:08.537238Z"
    }
   },
   "execution_count": 21,
   "outputs": [
    {
     "name": "stdout",
     "output_type": "stream",
     "text": [
      "y\n",
      "s\n",
      "u\n"
     ]
    }
   ]
  },
  {
   "cell_type": "markdown",
   "source": [
    "4. Create a string containing double quotes and a newline character.\n",
    "\n",
    "\ttext = This is a string with \"double quotes\" and a newline"
   ],
   "metadata": {
    "id": "SVmkUvFEefSw"
   }
  },
  {
   "cell_type": "code",
   "source": [
    "text = 'This is a string with \"double quotes\" and a newline'\n",
    "print(text)"
   ],
   "metadata": {
    "id": "1h3JnFZ3efSx",
    "ExecuteTime": {
     "start_time": "2023-04-03T12:28:44.437805Z",
     "end_time": "2023-04-03T12:28:44.484668Z"
    }
   },
   "execution_count": 22,
   "outputs": [
    {
     "name": "stdout",
     "output_type": "stream",
     "text": [
      "This is a string with \"double quotes\" and a newline\n"
     ]
    }
   ]
  },
  {
   "cell_type": "markdown",
   "source": [
    "5. Use the 'sep' argument in the print() function to print a list of items separated by commas.\n",
    "\n",
    "\tItems = apple, banana, orange"
   ],
   "metadata": {
    "id": "Ig4Qqk6fefV5"
   }
  },
  {
   "cell_type": "code",
   "source": [
    "items = ['apple', 'banana', 'orange']\n",
    "\n"
   ],
   "metadata": {
    "id": "wiEtWocNefV6",
    "ExecuteTime": {
     "start_time": "2023-04-03T12:37:01.418096Z",
     "end_time": "2023-04-03T12:37:01.449380Z"
    }
   },
   "execution_count": 38,
   "outputs": [
    {
     "name": "stdout",
     "output_type": "stream",
     "text": [
      "applebananaorangea, b, c\n"
     ]
    }
   ]
  },
  {
   "cell_type": "markdown",
   "source": [
    "6. Get user input for a floating-point number and print its square."
   ],
   "metadata": {
    "id": "bqPkCSx-efYw"
   }
  },
  {
   "cell_type": "code",
   "source": [
    "f = float(input('실수 입력: '))\n",
    "print(f ** 2)"
   ],
   "metadata": {
    "id": "LDvc1P3HefYx",
    "ExecuteTime": {
     "start_time": "2023-04-03T12:31:26.505695Z",
     "end_time": "2023-04-03T12:31:29.947652Z"
    }
   },
   "execution_count": 26,
   "outputs": [
    {
     "name": "stdout",
     "output_type": "stream",
     "text": [
      "28.09\n"
     ]
    }
   ]
  },
  {
   "cell_type": "markdown",
   "source": [
    "7. Create a string 'email' and use string methods to replace '@' with ' [at] ' and '.' with ' [dot] '.\n",
    "\n",
    "\temail = \"john.doe@example.com\"\n",
    "\n",
    "hint: replace() in str"
   ],
   "metadata": {
    "id": "6HbHQ3mDefbV"
   }
  },
  {
   "cell_type": "code",
   "source": [
    "email = \"john.doe@example.com\"\n",
    "email = email.replace('@', '[at]').replace('.', '[dot]')\n",
    "print(email)"
   ],
   "metadata": {
    "id": "W1YLTHq4efbV",
    "ExecuteTime": {
     "start_time": "2023-04-03T12:38:27.360720Z",
     "end_time": "2023-04-03T12:38:27.376431Z"
    }
   },
   "execution_count": 39,
   "outputs": [
    {
     "name": "stdout",
     "output_type": "stream",
     "text": [
      "john[dot]doe[at]example[dot]com\n"
     ]
    }
   ]
  },
  {
   "cell_type": "markdown",
   "source": [
    "# Project"
   ],
   "metadata": {
    "id": "BCoKWQ_tfC2S"
   }
  },
  {
   "cell_type": "markdown",
   "source": [
    "1. Text Analysis\n",
    "\n",
    "Create a program that performs a simple analysis of a user-provided text passage.\n",
    "\n",
    "<br>\n",
    "Input:\n",
    "\n",
    "The quick brown fox jumps over the lazy dog. The weather is great today. Let's go outside and play!\n",
    "\n",
    "<br>\n",
    "Instruction:\n",
    "\n",
    "  * Prompt the user for a text passage.\n",
    "  * Ignore case and punctuation.\n",
    "  * Calculate and print the total number of characters, words, and sentences in the passage.\n",
    "  * Calculate and print the average length of words and sentences.\n",
    "  * Calculate and print the frequency of each vowel (a, e, i, o, u) and the percentage of vowels in the text.\n",
    "  * Calculate and print the frequency of each word in the passage.\n",
    "\n"
   ],
   "metadata": {
    "id": "9GoMSloKfEl6"
   }
  },
  {
   "cell_type": "code",
   "source": [
    "s = input(\"Input: \")\n",
    "\n",
    "s = s.lower()\n",
    "ss = s.split(' ')\n",
    "print(len(s), len(ss), s.count('.'))\n",
    "\n"
   ],
   "metadata": {
    "id": "X5Q8ZjwPfI1a",
    "ExecuteTime": {
     "start_time": "2023-04-03T12:43:09.597556Z",
     "end_time": "2023-04-03T12:43:11.331496Z"
    }
   },
   "execution_count": 41,
   "outputs": [
    {
     "name": "stdout",
     "output_type": "stream",
     "text": [
      "99 19 2\n"
     ]
    }
   ]
  },
  {
   "cell_type": "markdown",
   "source": [
    "2. Web Article Text Analysis\n",
    "\n",
    "\n",
    "You'll use the BeautifulSoup library to extract text from an article on a news website like the Washington Post, and then perform the same text analysis as before.\n",
    "\n",
    "<br>\n",
    "\n",
    "**Input:**\n",
    "\n",
    "* https://www.washingtonpost.com/national-security/2023/03/31/trump-arraignment-secret-service/\n",
    "\n",
    "* https://v.daum.net/v/20230401115141365\n",
    "\n",
    "<br>\n",
    "\n",
    "**Install the required libraries:**\n",
    "\n",
    "```python\n",
    "pip install bs4\n",
    "pip install requests\n",
    "```\n",
    "\n"
   ],
   "metadata": {
    "id": "m7driE1ZfagV"
   }
  },
  {
   "cell_type": "code",
   "source": [
    "!pip install bs4\n",
    "!pip install requests"
   ],
   "metadata": {
    "id": "VQm4bgErfjj7"
   },
   "execution_count": null,
   "outputs": []
  },
  {
   "cell_type": "code",
   "source": [
    "import re\n",
    "import requests\n",
    "from bs4 import BeautifulSoup\n",
    "\n",
    "url = input(\"Enter the URL of the news article: \")\n",
    "response = requests.get(url)\n",
    "soup = BeautifulSoup(response.text, \"html.parser\")\n",
    "article = soup.find(\"article\")\n",
    "paragraphs = article.find_all(\"p\")\n",
    "text = \" \".join(p.get_text() for p in paragraphs)\n",
    "print('text: ', text)\n"
   ],
   "metadata": {
    "id": "XS2ENJ7Jf3VS"
   },
   "execution_count": null,
   "outputs": []
  },
  {
   "cell_type": "code",
   "source": [],
   "metadata": {
    "id": "BIuzQiR8f6mB"
   },
   "execution_count": null,
   "outputs": []
  }
 ]
}
