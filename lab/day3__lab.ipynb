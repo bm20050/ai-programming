{
 "nbformat": 4,
 "nbformat_minor": 0,
 "metadata": {
  "colab": {
   "provenance": [],
   "toc_visible": true
  },
  "kernelspec": {
   "name": "python3",
   "language": "python",
   "display_name": "Python 3 (ipykernel)"
  },
  "language_info": {
   "name": "python"
  }
 },
 "cells": [
  {
   "cell_type": "markdown",
   "source": [
    "# Lab5"
   ],
   "metadata": {
    "id": "ZYJeA4fpcGNk"
   }
  },
  {
   "cell_type": "markdown",
   "source": [
    "\n",
    "\n",
    "## 1. Write your code according to the following instructions:\n",
    "\n",
    "* Create a list of integers and find the sum of all even numbers.\n",
    "* Add a new element to the end of the list.\n",
    "* Remove the first element from the list.\n",
    "* Sort the list in ascending order.\n",
    "\n",
    "\n",
    "\n",
    "\n",
    "\n",
    "\n"
   ],
   "metadata": {
    "id": "0AZqhmeccW7p"
   }
  },
  {
   "cell_type": "code",
   "source": [
    "# Create a list of integers\n",
    "int_list = list(range(1, 100))\n",
    "\n",
    "print(sum([x for x in int_list if x % 2 == 0]))\n",
    "\n",
    "int_list.append(1111)\n",
    "print(int_list)\n",
    "int_list = int_list[1:]\n",
    "print(int_list)\n",
    "int_list.sort()\n",
    "print(int_list)\n"
   ],
   "metadata": {
    "id": "SBUQ1WRTc1Nz",
    "ExecuteTime": {
     "start_time": "2023-04-07T17:46:00.151124Z",
     "end_time": "2023-04-07T17:46:00.166769Z"
    }
   },
   "execution_count": 13,
   "outputs": [
    {
     "name": "stdout",
     "output_type": "stream",
     "text": [
      "2450\n",
      "[1, 2, 3, 4, 5, 6, 7, 8, 9, 10, 11, 12, 13, 14, 15, 16, 17, 18, 19, 20, 21, 22, 23, 24, 25, 26, 27, 28, 29, 30, 31, 32, 33, 34, 35, 36, 37, 38, 39, 40, 41, 42, 43, 44, 45, 46, 47, 48, 49, 50, 51, 52, 53, 54, 55, 56, 57, 58, 59, 60, 61, 62, 63, 64, 65, 66, 67, 68, 69, 70, 71, 72, 73, 74, 75, 76, 77, 78, 79, 80, 81, 82, 83, 84, 85, 86, 87, 88, 89, 90, 91, 92, 93, 94, 95, 96, 97, 98, 99, 1111]\n",
      "[2, 3, 4, 5, 6, 7, 8, 9, 10, 11, 12, 13, 14, 15, 16, 17, 18, 19, 20, 21, 22, 23, 24, 25, 26, 27, 28, 29, 30, 31, 32, 33, 34, 35, 36, 37, 38, 39, 40, 41, 42, 43, 44, 45, 46, 47, 48, 49, 50, 51, 52, 53, 54, 55, 56, 57, 58, 59, 60, 61, 62, 63, 64, 65, 66, 67, 68, 69, 70, 71, 72, 73, 74, 75, 76, 77, 78, 79, 80, 81, 82, 83, 84, 85, 86, 87, 88, 89, 90, 91, 92, 93, 94, 95, 96, 97, 98, 99, 1111]\n",
      "[2, 3, 4, 5, 6, 7, 8, 9, 10, 11, 12, 13, 14, 15, 16, 17, 18, 19, 20, 21, 22, 23, 24, 25, 26, 27, 28, 29, 30, 31, 32, 33, 34, 35, 36, 37, 38, 39, 40, 41, 42, 43, 44, 45, 46, 47, 48, 49, 50, 51, 52, 53, 54, 55, 56, 57, 58, 59, 60, 61, 62, 63, 64, 65, 66, 67, 68, 69, 70, 71, 72, 73, 74, 75, 76, 77, 78, 79, 80, 81, 82, 83, 84, 85, 86, 87, 88, 89, 90, 91, 92, 93, 94, 95, 96, 97, 98, 99, 1111]\n"
     ]
    }
   ]
  },
  {
   "cell_type": "markdown",
   "source": [
    "## 2. Write your code according to the following instructions:\n",
    "\n",
    "* Create a tuple containing names of your three favorite fruits.\n",
    "* Use tuple unpacking to assign each fruit to a separate variable.\n",
    "* Create a new tuple by concatenating your favorite fruits with a tuple of your favorite vegetables.\n",
    "\n",
    "\n"
   ],
   "metadata": {
    "id": "mGbPfQJEc5pl"
   }
  },
  {
   "cell_type": "code",
   "source": [
    "# Create a tuple containing names of your three favorite fruits.\n",
    "fruits = (\"apple\", \"banana\", \"cherry\")\n",
    "vegetables = (\"carrot\", \"spinach\", \"cabbage\")\n",
    "new = fruits + vegetables\n",
    "print(new)"
   ],
   "metadata": {
    "id": "mGAC-9rSc7Qd",
    "ExecuteTime": {
     "start_time": "2023-04-07T17:06:18.527130Z",
     "end_time": "2023-04-07T17:06:18.542734Z"
    }
   },
   "execution_count": 3,
   "outputs": [
    {
     "name": "stdout",
     "output_type": "stream",
     "text": [
      "('apple', 'banana', 'cherry', 'carrot', 'spinach', 'cabbage')\n"
     ]
    }
   ]
  },
  {
   "cell_type": "markdown",
   "source": [
    "## 3. Write your code according to the following instructions:\n",
    "\n",
    "* Create a list of strings and find the longest string.\n",
    "* Calculate the sum of a range of numbers from 1 to 100.\n",
    "* Using a list comprehension, create a list containing the squares of the numbers from 1 to 10.\n",
    "\n"
   ],
   "metadata": {
    "id": "INqFk2K5c7ks"
   }
  },
  {
   "cell_type": "code",
   "source": [
    "# Create a list of strings\n",
    "strings = [\"apple\", \"banana\", \"A\", \"Hello\", \"Python is fun!\", \"pineapple\", \"blueberry\", ]\n",
    "strings.sort(key= lambda x: len(x), reverse=True)\n",
    "print(strings[0])\n",
    "\n",
    "s = 0\n",
    "for i in range(1, 101):\n",
    "    s += i\n",
    "print(s)\n",
    "\n",
    "l = [i ** 2 for i in range(1, 11)]\n",
    "print(l)"
   ],
   "metadata": {
    "id": "B2c46qWfc8z0",
    "ExecuteTime": {
     "start_time": "2023-04-07T17:06:36.550944Z",
     "end_time": "2023-04-07T17:06:36.566593Z"
    }
   },
   "execution_count": 4,
   "outputs": [
    {
     "name": "stdout",
     "output_type": "stream",
     "text": [
      "Python is fun!\n",
      "5050\n",
      "[1, 4, 9, 16, 25, 36, 49, 64, 81, 100]\n"
     ]
    }
   ]
  },
  {
   "cell_type": "markdown",
   "source": [
    "\n",
    "## 4. Write your code according to the following instructions:\n",
    "\n",
    "* Create two lists, a and b, where b is a shallow copy of a.\n",
    "* Modify an element in a and observe the effect on b.\n",
    "* Repeat the process using a deep copy instead of a shallow copy."
   ],
   "metadata": {
    "id": "jAEoPcBXc9kM"
   }
  },
  {
   "cell_type": "code",
   "source": [
    "import copy\n",
    "# Create a list with variable name a\n",
    "a = [1, 2, [3, 4]]\n",
    "b = a\n",
    "c = a.copy()\n",
    "a[1] = 10\n",
    "print(a)\n",
    "print(b)\n",
    "print(c)"
   ],
   "metadata": {
    "id": "nJN7nZ1Nc-ad",
    "ExecuteTime": {
     "start_time": "2023-04-07T17:06:46.087904Z",
     "end_time": "2023-04-07T17:06:46.103527Z"
    }
   },
   "execution_count": 5,
   "outputs": [
    {
     "name": "stdout",
     "output_type": "stream",
     "text": [
      "[1, 10, [3, 4]]\n",
      "[1, 10, [3, 4]]\n",
      "[1, 2, [3, 4]]\n"
     ]
    }
   ]
  },
  {
   "cell_type": "markdown",
   "source": [
    "\n",
    "## 5 Write your code according to the following instructions:\n",
    "\n",
    "* Create a string containing a sentence.\n",
    "* Reverse the order of the words in the sentence.\n",
    "* Convert the sentence to uppercase.\n",
    "Replace a word in the sentence with another word.\n",
    "\n",
    "\n",
    "\n"
   ],
   "metadata": {
    "id": "EkRNBCyLctUY"
   }
  },
  {
   "cell_type": "code",
   "source": [
    "# Create a string containing a sentence.\n",
    "sentence = \"This is a sample sentence\"\n",
    "s = sentence.split()\n",
    "s = s[::-1]\n",
    "print(' '.join(s).upper())\n"
   ],
   "metadata": {
    "id": "BxdeHEF_cB3C",
    "ExecuteTime": {
     "start_time": "2023-04-07T17:06:50.208160Z",
     "end_time": "2023-04-07T17:06:50.239402Z"
    }
   },
   "execution_count": 6,
   "outputs": [
    {
     "name": "stdout",
     "output_type": "stream",
     "text": [
      "SENTENCE SAMPLE A IS THIS\n"
     ]
    }
   ]
  },
  {
   "cell_type": "markdown",
   "source": [
    "# 6. Palindrome Check\n",
    "\n",
    "A palindrome is a word, phrase, number, or other sequences of characters that reads the same forward and backward, ignoring spaces, punctuation, and capitalization. Write a function that checks if a given string is a palindrome."
   ],
   "metadata": {
    "id": "tdJa-fe6Lu_N"
   }
  },
  {
   "cell_type": "code",
   "source": [
    "def is_palindrome(s: str):\n",
    "    # Implement your code \n",
    "    # Return true if s is palladium, false otherwise.\n",
    "    if s == s[::-1]:\n",
    "        return True\n",
    "    else:\n",
    "        return False\n",
    "\n",
    "input_strings = ['racecar', 'hello', 'madam', 'python', 'level', 'world']  \n",
    "\n",
    "for s in input_strings:\n",
    "    print(is_palindrome(s))"
   ],
   "metadata": {
    "id": "rBaG-0MTRktW",
    "ExecuteTime": {
     "start_time": "2023-04-07T17:06:54.063909Z",
     "end_time": "2023-04-07T17:06:54.079546Z"
    }
   },
   "execution_count": 7,
   "outputs": [
    {
     "name": "stdout",
     "output_type": "stream",
     "text": [
      "True\n",
      "False\n",
      "True\n",
      "False\n",
      "True\n",
      "False\n"
     ]
    }
   ]
  },
  {
   "cell_type": "markdown",
   "source": [
    "# Lab6"
   ],
   "metadata": {
    "id": "9fgcLU2reahl"
   }
  },
  {
   "cell_type": "markdown",
   "source": [
    "## 1. Write your code according to the following instructions:\n",
    "\n",
    "* Create a list of numbers from 1 to 50.\n",
    "* Filter out all the numbers that are divisible by 3 and store them in a new list.\n",
    "* Calculate the sum of the remaining numbers in the original list.\n",
    "* Reverse the order of the elements in the original list."
   ],
   "metadata": {
    "id": "dI9p5_rNec8G"
   }
  },
  {
   "cell_type": "code",
   "source": [
    "# Create a list of numbers from 1 to 50\n",
    "numbers = list(range(1, 51))\n",
    "n = [i for i in numbers if i % 3 == 0]\n",
    "print(n)\n",
    "s = [i for i in numbers if i % 3 != 0]\n",
    "ss = s[::-1]\n",
    "print(ss)\n",
    "print(sum(s))\n",
    "\n"
   ],
   "metadata": {
    "id": "nvheaxJOedT9",
    "ExecuteTime": {
     "start_time": "2023-04-07T17:06:57.759527Z",
     "end_time": "2023-04-07T17:06:57.790811Z"
    }
   },
   "execution_count": 8,
   "outputs": [
    {
     "name": "stdout",
     "output_type": "stream",
     "text": [
      "[3, 6, 9, 12, 15, 18, 21, 24, 27, 30, 33, 36, 39, 42, 45, 48]\n",
      "[50, 49, 47, 46, 44, 43, 41, 40, 38, 37, 35, 34, 32, 31, 29, 28, 26, 25, 23, 22, 20, 19, 17, 16, 14, 13, 11, 10, 8, 7, 5, 4, 2, 1]\n",
      "867\n"
     ]
    }
   ]
  },
  {
   "cell_type": "markdown",
   "source": [
    "## 2. Write your code according to the following instructions:\n",
    "\n",
    "* Create a tuple containing 5 numbers.\n",
    "* Calculate the minimum, maximum, and average of the numbers in the tuple.\n",
    "* Create a new tuple by appending the calculated minimum, maximum, and average to the original tuple.\n",
    "* Use tuple unpacking to store the first three elements of the new tuple in separate variables."
   ],
   "metadata": {
    "id": "wDOVnwLTee8p"
   }
  },
  {
   "cell_type": "code",
   "source": [
    "# Create a tuple containing 5 numbers\n",
    "numbers = (3, 7, 2, 9, 5)\n",
    "\n",
    "print(min(numbers))\n",
    "print(max(numbers))\n",
    "print(numbers)\n",
    "\n",
    "t = (min(numbers), max(numbers))\n",
    "print(t)"
   ],
   "metadata": {
    "id": "YeC_cgT3ee8q",
    "ExecuteTime": {
     "start_time": "2023-04-07T17:07:00.541313Z",
     "end_time": "2023-04-07T17:07:00.556894Z"
    }
   },
   "execution_count": 9,
   "outputs": [
    {
     "name": "stdout",
     "output_type": "stream",
     "text": [
      "2\n",
      "9\n",
      "(3, 7, 2, 9, 5)\n",
      "(2, 9)\n"
     ]
    }
   ]
  },
  {
   "cell_type": "code",
   "source": [
    "# Given a list of strings\n",
    "strings = [\"apple\", \"banana\", \"pineapple\", \"blueberry\", \"kiwi\"]\n",
    "\n"
   ],
   "metadata": {
    "id": "Q7DxZNeGefP0"
   },
   "execution_count": null,
   "outputs": []
  },
  {
   "cell_type": "markdown",
   "source": [
    "## 3. Write your code according to the following instructions:\n",
    "\n",
    "* Write a function that takes a string as input and returns the string with all vowels removed.\n",
    "* Create a list of strings and use the function to filter the vowels from each string.\n",
    "* Sort the filtered strings based on the number of consonants.\n",
    "* Write a function that takes a string as input and returns the string with words in reverse order. Use this function on each string in the list of filtered strings."
   ],
   "metadata": {
    "id": "P5k8YQd9dmUT"
   }
  },
  {
   "cell_type": "code",
   "source": [
    "def remove_vowels(s):\n",
    "  # implement your code\n",
    "    ss = list(s)\n",
    "    vowels = ['a', 'e', 'i', 'o', 'u']\n",
    "    for i in ss:\n",
    "        if i in vowels:\n",
    "            ss.remove(i)\n",
    "    return ''.join(ss)\n",
    "\n",
    "\n",
    "\n",
    "# Create a list of strings\n",
    "strings = [\"apple\", \"banana\", \"cherry\", \"kiwi\", \"mango\", \"orange\", \"strawberry\", \"avocado\", \"zucchini\", \"grape\", \"blueberry\"]\n",
    "ss = []\n",
    "for s in strings:\n",
    "    ss.append(remove_vowels(s))\n",
    "print(ss)\n",
    "\n",
    "ss.sort(key= lambda x: len(x), reverse=True)\n",
    "print(ss)"
   ],
   "metadata": {
    "id": "EBIwt03Kdnpp",
    "ExecuteTime": {
     "start_time": "2023-04-07T17:07:03.821504Z",
     "end_time": "2023-04-07T17:07:03.837152Z"
    }
   },
   "execution_count": 10,
   "outputs": [
    {
     "name": "stdout",
     "output_type": "stream",
     "text": [
      "['ppl', 'bnn', 'chrry', 'kw', 'mng', 'rng', 'strwbrry', 'vcd', 'zcchn', 'grp', 'blberry']\n",
      "['strwbrry', 'blberry', 'chrry', 'zcchn', 'ppl', 'bnn', 'mng', 'rng', 'vcd', 'grp', 'kw']\n"
     ]
    }
   ]
  },
  {
   "cell_type": "markdown",
   "source": [
    "## 4. Two Sum\n",
    "\n",
    "Given a list of integers and a target integer, find two integers in the list that sum up to the target. Return their indices as a tuple. Assume there is exactly one solution and you may not use the same element twice.\n",
    "\n",
    "\n",
    "```\n",
    "# input data 1\n",
    "numbers = [3, 2, 4]\n",
    "target = 6\n",
    "\n",
    "# output data 1\n",
    "(1, 2)\n",
    "\n",
    "# input data 2\n",
    "numbers = [8, 5, 6, 1, 2, 9]\n",
    "target = 9\n",
    "\n",
    "# output data 2\n",
    "(0, 3)\n",
    "\n",
    "# input data 3\n",
    "numbers = [1, 3, 6, 9, 2, 4, 8]\n",
    "target = 14\n",
    "\n",
    "# output data 3\n",
    "(2, 6)\n",
    "```"
   ],
   "metadata": {
    "id": "mPv8F8IDdsNB"
   }
  },
  {
   "cell_type": "code",
   "source": [
    "def two_sum(nums, target):\n",
    "    # Implement your code\n",
    "    # Return two integers in the list that sum up to the target\n",
    "    for i in range(len(nums)):\n",
    "        for j in range(len(nums)):\n",
    "            if i == j:\n",
    "                continue\n",
    "            if nums[i] + nums[j] == target:\n",
    "                return (i, j)\n",
    "\n",
    "numbers = [3, 2, 4]\n",
    "target = 6\n",
    "print(two_sum(numbers, target))\n"
   ],
   "metadata": {
    "id": "tXDgAKGadyDx",
    "ExecuteTime": {
     "start_time": "2023-04-07T17:07:07.708140Z",
     "end_time": "2023-04-07T17:07:07.770576Z"
    }
   },
   "execution_count": 11,
   "outputs": [
    {
     "name": "stdout",
     "output_type": "stream",
     "text": [
      "(1, 2)\n"
     ]
    }
   ]
  }
 ]
}
