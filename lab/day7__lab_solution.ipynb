{
  "nbformat": 4,
  "nbformat_minor": 0,
  "metadata": {
    "colab": {
      "provenance": []
    },
    "kernelspec": {
      "name": "python3",
      "display_name": "Python 3"
    },
    "language_info": {
      "name": "python"
    }
  },
  "cells": [
    {
      "cell_type": "markdown",
      "source": [
        "# Lab12"
      ],
      "metadata": {
        "id": "Q8GmLMjqs3Ek"
      }
    },
    {
      "cell_type": "markdown",
      "source": [
        "## 0. Prerequisite"
      ],
      "metadata": {
        "id": "0AZqhmeccW7p"
      }
    },
    {
      "cell_type": "code",
      "source": [
        "!pip install mypy\n",
        "from IPython.core.magic import register_cell_magic\n",
        "from IPython import get_ipython\n",
        "from mypy import api\n",
        "\n",
        "@register_cell_magic\n",
        "def mypy(line, cell):\n",
        "  for output in api.run(['-c', '\\n' + cell] + line.split()):\n",
        "    if output and not output.startswith('Success'):\n",
        "      raise TypeError(output)\n",
        "  get_ipython().run_cell(cell)"
      ],
      "metadata": {
        "colab": {
          "base_uri": "https://localhost:8080/"
        },
        "id": "gyxzozzA4prN",
        "outputId": "fe149f03-ba42-4644-fe8f-ab43036d49ea"
      },
      "execution_count": null,
      "outputs": [
        {
          "output_type": "stream",
          "name": "stdout",
          "text": [
            "Looking in indexes: https://pypi.org/simple, https://us-python.pkg.dev/colab-wheels/public/simple/\n",
            "Collecting mypy\n",
            "  Downloading mypy-1.2.0-cp39-cp39-manylinux_2_17_x86_64.manylinux2014_x86_64.whl (12.2 MB)\n",
            "\u001b[2K     \u001b[90m━━━━━━━━━━━━━━━━━━━━━━━━━━━━━━━━━━━━━━━━\u001b[0m \u001b[32m12.2/12.2 MB\u001b[0m \u001b[31m9.8 MB/s\u001b[0m eta \u001b[36m0:00:00\u001b[0m\n",
            "\u001b[?25hRequirement already satisfied: typing-extensions>=3.10 in /usr/local/lib/python3.9/dist-packages (from mypy) (4.5.0)\n",
            "Collecting mypy-extensions>=1.0.0\n",
            "  Downloading mypy_extensions-1.0.0-py3-none-any.whl (4.7 kB)\n",
            "Requirement already satisfied: tomli>=1.1.0 in /usr/local/lib/python3.9/dist-packages (from mypy) (2.0.1)\n",
            "Installing collected packages: mypy-extensions, mypy\n",
            "Successfully installed mypy-1.2.0 mypy-extensions-1.0.0\n"
          ]
        }
      ]
    },
    {
      "cell_type": "code",
      "source": [
        "from google.colab import drive\n",
        "\n",
        "drive.mount('/content/gdrive/', force_remount=True)\n"
      ],
      "metadata": {
        "colab": {
          "base_uri": "https://localhost:8080/"
        },
        "id": "ZDeM7aGRQfp2",
        "outputId": "baf1b3ed-180e-4298-fe7d-2cdc04fe3333"
      },
      "execution_count": null,
      "outputs": [
        {
          "output_type": "stream",
          "name": "stdout",
          "text": [
            "Mounted at /content/gdrive/\n"
          ]
        }
      ]
    },
    {
      "cell_type": "markdown",
      "source": [
        "## 1. Create a class named \"ShoppingCart\" with the following methods and attributes:\n",
        "\n",
        "* add_item(name, price, quantity)\n",
        "* remove_item(name, quantity)\n",
        "* get_total_price()\n",
        "* items (dictionary, keys are item names and values are item price and quantities)"
      ],
      "metadata": {
        "id": "UlT2GU_N6Tl0"
      }
    },
    {
      "cell_type": "code",
      "source": [
        "first = lambda x: x[0]\n",
        "second = lambda x: x[1]\n",
        "\n",
        "class ShoppingCart:\n",
        "  def __init__(self):\n",
        "    self.items = dict()\n",
        "\n",
        "  def add_item(self, name, price, quantity):\n",
        "    self.items[name] = (price, quantity)\n",
        "\n",
        "  def remove_item(self, name, quantity):\n",
        "    if name in self.items:\n",
        "      if quantity < second(self.items[name]):\n",
        "        self.items[name] = (first(self.items[name]), second(self.items[name]) - quantity)\n",
        "      elif second(self.items[name]) == quantity:\n",
        "        del self.items[name]\n",
        "\n",
        "  def get_total_price(self):\n",
        "    return sum([first(v) * second(v) for k, v in self.items.items()])\n",
        "\n",
        "\n",
        "def main():\n",
        "  cart = ShoppingCart()\n",
        "  cart.add_item(\"Apple\", 1.9, 5)\n",
        "  cart.add_item(\"Banana\", 0.9, 3)\n",
        "  cart.add_item(\"Orange\", 2.9, 2)\n",
        "  cart.remove_item(\"Apple\", 2)\n",
        "  cart.remove_item(\"Orange\", 2)\n",
        "\n",
        "  print('{:.2f}'.format(cart.get_total_price()))\n",
        "\n",
        "\n",
        "main()"
      ],
      "metadata": {
        "id": "iqIe1ijPrx0z",
        "colab": {
          "base_uri": "https://localhost:8080/"
        },
        "outputId": "8b757630-a5b5-459d-9183-f0a0e7bba771"
      },
      "execution_count": 34,
      "outputs": [
        {
          "output_type": "stream",
          "name": "stdout",
          "text": [
            "8.40\n"
          ]
        }
      ]
    },
    {
      "cell_type": "markdown",
      "source": [
        "## 2. Create a class named \"TimeSeriesData\" with the following methods and attributes:\n",
        "\n",
        "* get_max_value()\n",
        "* get_min_value()\n",
        "* get_average_value()\n",
        "* data (list of tuples, each tuple contains a timestamp and a value)"
      ],
      "metadata": {
        "id": "mKgtxNrn8m_a"
      }
    },
    {
      "cell_type": "code",
      "source": [
        "\n",
        "class TimeSeriesData():\n",
        "  def __init__(self, data):\n",
        "      self.data = data\n",
        "\n",
        "  def get_max_value(self):\n",
        "      return max(value for _, value in self.data)\n",
        "\n",
        "  def get_min_value(self):\n",
        "      return min(value for _, value in self.data)\n",
        "\n",
        "  def get_average_value(self):\n",
        "      return sum(value for _, value in self.data) / len(self.data)\n",
        "\n",
        "\n",
        "def main():\n",
        "  data = [(\"2023-01-01\", 1.0), (\"2023-01-02\", 2.0), (\"2023-01-03\", 3.0), (\"2023-01-04\", 2.5)]\n",
        "\n",
        "  time_series = TimeSeriesData(data)\n",
        "  print('{:.2f}'.format(time_series.get_max_value()))\n",
        "  print('{:.2f}'.format(time_series.get_min_value())) \n",
        "  print('{:.2f}'.format(time_series.get_average_value()))\n",
        "\n",
        "main()"
      ],
      "metadata": {
        "id": "ioqrxwWI8nbq",
        "colab": {
          "base_uri": "https://localhost:8080/"
        },
        "outputId": "f54f9ced-ed75-4e77-bfd8-2fb74804e746"
      },
      "execution_count": 35,
      "outputs": [
        {
          "output_type": "stream",
          "name": "stdout",
          "text": [
            "3.00\n",
            "1.00\n",
            "2.12\n"
          ]
        }
      ]
    },
    {
      "cell_type": "markdown",
      "source": [
        "## 3. Create a class named \"SimpleLinearRegression\" with the following methods and attributes:\n",
        "\n",
        "* get_slope()\n",
        "* get_intercept()\n",
        "* predict(x)\n",
        "* x (list of floats)\n",
        "* y (list of floats)"
      ],
      "metadata": {
        "id": "o205__Y09RrY"
      }
    },
    {
      "cell_type": "code",
      "source": [
        "# first, you can use the matplotlib, numpy, and sklearn modules\n",
        "import matplotlib.pyplot as plt\n",
        "import numpy as np\n",
        "from sklearn.linear_model import LinearRegression\n",
        "\n",
        "class SimpleLinearRegression():  # ax + b = 0\n",
        "  def __init__(self, x, y):\n",
        "    self.x = x\n",
        "    self.y = y\n",
        "\n",
        "  def __fit(self):\n",
        "    self.X_train = np.array(self.x).reshape(-1,1)\n",
        "    self.lr = LinearRegression().fit(self.X_train, self.y)\n",
        "\n",
        "  def get_slope(self):\n",
        "    self.__fit()\n",
        "    return self.lr.coef_[0]\n",
        "\n",
        "  def get_intercept(self):\n",
        "    self.__fit()\n",
        "    return self.lr.intercept_\n",
        "\n",
        "  def predict(self, x):\n",
        "    return self.get_slope() * x + self.get_intercept()\n",
        "\n",
        "  def show_plot(self):\n",
        "    plt.figure(\"SimpleLinearRegression\")\n",
        "    plt.title(\"SimpleLinearRegression\")\n",
        "    plt.scatter(self.x, self.y)\n",
        "    plt.plot(self.x, self.lr.predict(self.X_train), 'r')\n",
        "\n",
        "\n",
        "# secondly, you can use the least-squares estimation method, \n",
        "# you can find the best-fitting line by calculating \n",
        "# the slope (a) and intercept (b) using these formulas:\n",
        "\n",
        "# Slope (a):\n",
        "# a = (Σ(x*y) - n * mean(x) * mean(y)) / (Σ(x^2) - n * mean(x)^2)\n",
        "\n",
        "# Intercept (b):\n",
        "# b = mean(y) - a * mean(x)\n",
        "\n",
        "class SimpleLinearRegression2():  # ax + b = 0\n",
        "  def __init__(self, x, y):\n",
        "    self.x = x\n",
        "    self.y = y\n",
        "\n",
        "  def get_slope(self):\n",
        "    n = len(self.x)\n",
        "    x_mean = sum(self.x) / n\n",
        "    y_mean = sum(self.y) / n\n",
        "    xy = sum(x * y for x, y in zip(self.x, self.y))\n",
        "    xx = sum(x ** 2 for x in self.x)\n",
        "    return (xy - n * (x_mean * y_mean)) / (xx - n * x_mean ** 2)\n",
        "\n",
        "  def get_intercept(self):\n",
        "    x_mean = sum(self.x) / len(self.x)\n",
        "    y_mean = sum(self.y) / len(self.y)\n",
        "    return y_mean - self.get_slope() * x_mean\n",
        "\n",
        "  def predict(self, x):\n",
        "    return self.get_slope() * x + self.get_intercept()\n",
        "\n",
        "  def show_plot(self):\n",
        "    plt.figure(\"SimpleLinearRegression2\")\n",
        "    plt.title(\"SimpleLinearRegression2\")\n",
        "    plt.scatter(self.x, self.y)\n",
        "    plt.plot(self.x, [self.predict(x) for x in self.x], 'r')\n",
        "\n",
        "\n",
        "def main():\n",
        "  x = [1, 2, 3, 4, 5, 6, 7, 8]\n",
        "  y = [2, 4, 5, 4, 5, 5, 8, 6]\n",
        "\n",
        "  regression = SimpleLinearRegression(x, y)\n",
        "  print('{:.2f}'.format(regression.get_slope()))          # a\n",
        "  print('{:.2f}'.format(regression.get_intercept()))      # b\n",
        "  print('{:.2f}'.format(regression.predict(6)))           \n",
        "\n",
        "  regression.show_plot()\n",
        "\n",
        "  regression2 = SimpleLinearRegression2(x, y)\n",
        "  print('{:.2f}'.format(regression2.get_slope()))          # a\n",
        "  print('{:.2f}'.format(regression2.get_intercept()))      # b\n",
        "  print('{:.2f}'.format(regression2.predict(6)))           \n",
        "\n",
        "  regression2.show_plot()\n",
        "\n",
        "main()\n",
        "\n"
      ],
      "metadata": {
        "id": "_GMyehYz9Qv-",
        "colab": {
          "base_uri": "https://localhost:8080/",
          "height": 994
        },
        "outputId": "f44d8a23-fe62-4c05-b9b4-14b45ec4f4d2"
      },
      "execution_count": null,
      "outputs": [
        {
          "output_type": "stream",
          "name": "stdout",
          "text": [
            "0.58\n",
            "2.25\n",
            "5.75\n",
            "0.58\n",
            "2.25\n",
            "5.75\n"
          ]
        },
        {
          "output_type": "display_data",
          "data": {
            "text/plain": [
              "<Figure size 640x480 with 1 Axes>"
            ],
            "image/png": "[encoded data removed]"
          },
          "metadata": {}
        },
        {
          "output_type": "display_data",
          "data": {
            "text/plain": [
              "<Figure size 640x480 with 1 Axes>"
            ],
            "image/png": "[encoded data removed]"
          },
          "metadata": {}
        }
      ]
    }
  ]
}